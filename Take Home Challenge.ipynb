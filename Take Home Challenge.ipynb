{
 "cells": [
  {
   "cell_type": "markdown",
   "id": "caceb4d7",
   "metadata": {},
   "source": [
    "## Take Home Challenge\n",
    "## Part 1 : Exploratory Data Analysis"
   ]
  },
  {
   "cell_type": "markdown",
   "id": "00e3ee25",
   "metadata": {},
   "source": [
    "The attached logins.json file contains (simulated) timestamps of user logins in a particular geographic location. Aggregate these login counts based on 15 minute time intervals, and visualize and describe the resulting time series of login counts in ways that best characterize the underlying patterns of the demand. Please report/illustrate important features of the demand, such as daily cycles. If there are data quality issues, please report them.\n"
   ]
  },
  {
   "cell_type": "markdown",
   "id": "eb963623",
   "metadata": {},
   "source": [
    "## 1. Load and Explore the Data"
   ]
  },
  {
   "cell_type": "code",
   "execution_count": 1,
   "id": "cf814cde",
   "metadata": {},
   "outputs": [],
   "source": [
    "import pandas as pd\n",
    "import numpy as np\n",
    "import seaborn as sns\n",
    "import matplotlib.pyplot as plt"
   ]
  },
  {
   "cell_type": "code",
   "execution_count": 2,
   "id": "24892185",
   "metadata": {},
   "outputs": [
    {
     "data": {
      "text/html": [
       "<div>\n",
       "<style scoped>\n",
       "    .dataframe tbody tr th:only-of-type {\n",
       "        vertical-align: middle;\n",
       "    }\n",
       "\n",
       "    .dataframe tbody tr th {\n",
       "        vertical-align: top;\n",
       "    }\n",
       "\n",
       "    .dataframe thead th {\n",
       "        text-align: right;\n",
       "    }\n",
       "</style>\n",
       "<table border=\"1\" class=\"dataframe\">\n",
       "  <thead>\n",
       "    <tr style=\"text-align: right;\">\n",
       "      <th></th>\n",
       "      <th>login_time</th>\n",
       "    </tr>\n",
       "  </thead>\n",
       "  <tbody>\n",
       "    <tr>\n",
       "      <th>0</th>\n",
       "      <td>1970-01-01 20:13:18</td>\n",
       "    </tr>\n",
       "    <tr>\n",
       "      <th>1</th>\n",
       "      <td>1970-01-01 20:16:10</td>\n",
       "    </tr>\n",
       "    <tr>\n",
       "      <th>2</th>\n",
       "      <td>1970-01-01 20:16:37</td>\n",
       "    </tr>\n",
       "    <tr>\n",
       "      <th>3</th>\n",
       "      <td>1970-01-01 20:16:36</td>\n",
       "    </tr>\n",
       "    <tr>\n",
       "      <th>4</th>\n",
       "      <td>1970-01-01 20:26:21</td>\n",
       "    </tr>\n",
       "  </tbody>\n",
       "</table>\n",
       "</div>"
      ],
      "text/plain": [
       "           login_time\n",
       "0 1970-01-01 20:13:18\n",
       "1 1970-01-01 20:16:10\n",
       "2 1970-01-01 20:16:37\n",
       "3 1970-01-01 20:16:36\n",
       "4 1970-01-01 20:26:21"
      ]
     },
     "execution_count": 2,
     "metadata": {},
     "output_type": "execute_result"
    }
   ],
   "source": [
    "# Lets checkout the data\n",
    "\n",
    "logins = pd.read_json('logins.json')\n",
    "logins.head()"
   ]
  },
  {
   "cell_type": "code",
   "execution_count": 3,
   "id": "f8586aa4",
   "metadata": {},
   "outputs": [],
   "source": [
    "#Lets change it to an actual date time\n",
    "\n",
    "logins['login_time'] = pd.to_datetime(logins['login_time'])"
   ]
  },
  {
   "cell_type": "code",
   "execution_count": 4,
   "id": "51ef5f80",
   "metadata": {},
   "outputs": [
    {
     "data": {
      "text/plain": [
       "(93142, 1)"
      ]
     },
     "execution_count": 4,
     "metadata": {},
     "output_type": "execute_result"
    }
   ],
   "source": [
    "logins.shape"
   ]
  },
  {
   "cell_type": "code",
   "execution_count": 5,
   "id": "999308eb",
   "metadata": {},
   "outputs": [
    {
     "name": "stdout",
     "output_type": "stream",
     "text": [
      "<class 'pandas.core.frame.DataFrame'>\n",
      "RangeIndex: 93142 entries, 0 to 93141\n",
      "Data columns (total 1 columns):\n",
      " #   Column      Non-Null Count  Dtype         \n",
      "---  ------      --------------  -----         \n",
      " 0   login_time  93142 non-null  datetime64[ns]\n",
      "dtypes: datetime64[ns](1)\n",
      "memory usage: 727.8 KB\n"
     ]
    }
   ],
   "source": [
    "## Lets see what type of data we have\n",
    "\n",
    "logins.info()"
   ]
  },
  {
   "cell_type": "markdown",
   "id": "53c80bc3",
   "metadata": {},
   "source": [
    "The data looks good! There are no missing values from the data set of 93,142."
   ]
  },
  {
   "cell_type": "code",
   "execution_count": 6,
   "id": "9e130d2f",
   "metadata": {},
   "outputs": [],
   "source": [
    "## Aggragate by 15 mins intervals\n",
    "\n",
    "logins.set_index('login_time', inplace=True)\n",
    "logins['count'] = 1\n",
    "logins = logins.resample('15T').sum()\n"
   ]
  },
  {
   "cell_type": "code",
   "execution_count": 7,
   "id": "e3127dda",
   "metadata": {},
   "outputs": [],
   "source": [
    "logins= pd.DataFrame(logins)"
   ]
  },
  {
   "cell_type": "code",
   "execution_count": 8,
   "id": "e8e14872",
   "metadata": {},
   "outputs": [],
   "source": [
    "logins.reset_index(inplace=True)"
   ]
  },
  {
   "cell_type": "code",
   "execution_count": 9,
   "id": "89de6b14",
   "metadata": {},
   "outputs": [
    {
     "data": {
      "text/html": [
       "<div>\n",
       "<style scoped>\n",
       "    .dataframe tbody tr th:only-of-type {\n",
       "        vertical-align: middle;\n",
       "    }\n",
       "\n",
       "    .dataframe tbody tr th {\n",
       "        vertical-align: top;\n",
       "    }\n",
       "\n",
       "    .dataframe thead th {\n",
       "        text-align: right;\n",
       "    }\n",
       "</style>\n",
       "<table border=\"1\" class=\"dataframe\">\n",
       "  <thead>\n",
       "    <tr style=\"text-align: right;\">\n",
       "      <th></th>\n",
       "      <th>login_time</th>\n",
       "      <th>count</th>\n",
       "    </tr>\n",
       "  </thead>\n",
       "  <tbody>\n",
       "    <tr>\n",
       "      <th>0</th>\n",
       "      <td>1970-01-01 20:00:00</td>\n",
       "      <td>2</td>\n",
       "    </tr>\n",
       "    <tr>\n",
       "      <th>1</th>\n",
       "      <td>1970-01-01 20:15:00</td>\n",
       "      <td>6</td>\n",
       "    </tr>\n",
       "    <tr>\n",
       "      <th>2</th>\n",
       "      <td>1970-01-01 20:30:00</td>\n",
       "      <td>9</td>\n",
       "    </tr>\n",
       "    <tr>\n",
       "      <th>3</th>\n",
       "      <td>1970-01-01 20:45:00</td>\n",
       "      <td>7</td>\n",
       "    </tr>\n",
       "    <tr>\n",
       "      <th>4</th>\n",
       "      <td>1970-01-01 21:00:00</td>\n",
       "      <td>1</td>\n",
       "    </tr>\n",
       "  </tbody>\n",
       "</table>\n",
       "</div>"
      ],
      "text/plain": [
       "           login_time  count\n",
       "0 1970-01-01 20:00:00      2\n",
       "1 1970-01-01 20:15:00      6\n",
       "2 1970-01-01 20:30:00      9\n",
       "3 1970-01-01 20:45:00      7\n",
       "4 1970-01-01 21:00:00      1"
      ]
     },
     "execution_count": 9,
     "metadata": {},
     "output_type": "execute_result"
    }
   ],
   "source": [
    "logins.head()"
   ]
  },
  {
   "cell_type": "code",
   "execution_count": 10,
   "id": "72df9ed4",
   "metadata": {},
   "outputs": [
    {
     "data": {
      "text/html": [
       "<div>\n",
       "<style scoped>\n",
       "    .dataframe tbody tr th:only-of-type {\n",
       "        vertical-align: middle;\n",
       "    }\n",
       "\n",
       "    .dataframe tbody tr th {\n",
       "        vertical-align: top;\n",
       "    }\n",
       "\n",
       "    .dataframe thead th {\n",
       "        text-align: right;\n",
       "    }\n",
       "</style>\n",
       "<table border=\"1\" class=\"dataframe\">\n",
       "  <thead>\n",
       "    <tr style=\"text-align: right;\">\n",
       "      <th></th>\n",
       "      <th>login_time</th>\n",
       "      <th>count</th>\n",
       "    </tr>\n",
       "  </thead>\n",
       "  <tbody>\n",
       "    <tr>\n",
       "      <th>9783</th>\n",
       "      <td>1970-04-13 17:45:00</td>\n",
       "      <td>5</td>\n",
       "    </tr>\n",
       "    <tr>\n",
       "      <th>9784</th>\n",
       "      <td>1970-04-13 18:00:00</td>\n",
       "      <td>5</td>\n",
       "    </tr>\n",
       "    <tr>\n",
       "      <th>9785</th>\n",
       "      <td>1970-04-13 18:15:00</td>\n",
       "      <td>2</td>\n",
       "    </tr>\n",
       "    <tr>\n",
       "      <th>9786</th>\n",
       "      <td>1970-04-13 18:30:00</td>\n",
       "      <td>7</td>\n",
       "    </tr>\n",
       "    <tr>\n",
       "      <th>9787</th>\n",
       "      <td>1970-04-13 18:45:00</td>\n",
       "      <td>6</td>\n",
       "    </tr>\n",
       "  </tbody>\n",
       "</table>\n",
       "</div>"
      ],
      "text/plain": [
       "              login_time  count\n",
       "9783 1970-04-13 17:45:00      5\n",
       "9784 1970-04-13 18:00:00      5\n",
       "9785 1970-04-13 18:15:00      2\n",
       "9786 1970-04-13 18:30:00      7\n",
       "9787 1970-04-13 18:45:00      6"
      ]
     },
     "execution_count": 10,
     "metadata": {},
     "output_type": "execute_result"
    }
   ],
   "source": [
    "logins.tail()"
   ]
  },
  {
   "cell_type": "markdown",
   "id": "5488446d",
   "metadata": {},
   "source": [
    "The data is from January 1st, 1970 to April 13th, 1970. Four months of data."
   ]
  },
  {
   "cell_type": "code",
   "execution_count": 11,
   "id": "ab93f8ac",
   "metadata": {},
   "outputs": [
    {
     "data": {
      "text/html": [
       "<div>\n",
       "<style scoped>\n",
       "    .dataframe tbody tr th:only-of-type {\n",
       "        vertical-align: middle;\n",
       "    }\n",
       "\n",
       "    .dataframe tbody tr th {\n",
       "        vertical-align: top;\n",
       "    }\n",
       "\n",
       "    .dataframe thead th {\n",
       "        text-align: right;\n",
       "    }\n",
       "</style>\n",
       "<table border=\"1\" class=\"dataframe\">\n",
       "  <thead>\n",
       "    <tr style=\"text-align: right;\">\n",
       "      <th></th>\n",
       "      <th>count</th>\n",
       "    </tr>\n",
       "  </thead>\n",
       "  <tbody>\n",
       "    <tr>\n",
       "      <th>count</th>\n",
       "      <td>9788.000000</td>\n",
       "    </tr>\n",
       "    <tr>\n",
       "      <th>mean</th>\n",
       "      <td>9.515938</td>\n",
       "    </tr>\n",
       "    <tr>\n",
       "      <th>std</th>\n",
       "      <td>8.328818</td>\n",
       "    </tr>\n",
       "    <tr>\n",
       "      <th>min</th>\n",
       "      <td>0.000000</td>\n",
       "    </tr>\n",
       "    <tr>\n",
       "      <th>25%</th>\n",
       "      <td>3.000000</td>\n",
       "    </tr>\n",
       "    <tr>\n",
       "      <th>50%</th>\n",
       "      <td>7.000000</td>\n",
       "    </tr>\n",
       "    <tr>\n",
       "      <th>75%</th>\n",
       "      <td>13.000000</td>\n",
       "    </tr>\n",
       "    <tr>\n",
       "      <th>max</th>\n",
       "      <td>73.000000</td>\n",
       "    </tr>\n",
       "  </tbody>\n",
       "</table>\n",
       "</div>"
      ],
      "text/plain": [
       "             count\n",
       "count  9788.000000\n",
       "mean      9.515938\n",
       "std       8.328818\n",
       "min       0.000000\n",
       "25%       3.000000\n",
       "50%       7.000000\n",
       "75%      13.000000\n",
       "max      73.000000"
      ]
     },
     "execution_count": 11,
     "metadata": {},
     "output_type": "execute_result"
    }
   ],
   "source": [
    "logins.describe()"
   ]
  },
  {
   "cell_type": "markdown",
   "id": "cecf986e",
   "metadata": {},
   "source": [
    "## 2. Key statistics "
   ]
  },
  {
   "cell_type": "code",
   "execution_count": 12,
   "id": "4de25779",
   "metadata": {},
   "outputs": [
    {
     "data": {
      "text/plain": [
       "0"
      ]
     },
     "execution_count": 12,
     "metadata": {},
     "output_type": "execute_result"
    }
   ],
   "source": [
    "logins['count'].min()"
   ]
  },
  {
   "cell_type": "code",
   "execution_count": 13,
   "id": "0507a9fc",
   "metadata": {},
   "outputs": [
    {
     "data": {
      "text/html": [
       "<div>\n",
       "<style scoped>\n",
       "    .dataframe tbody tr th:only-of-type {\n",
       "        vertical-align: middle;\n",
       "    }\n",
       "\n",
       "    .dataframe tbody tr th {\n",
       "        vertical-align: top;\n",
       "    }\n",
       "\n",
       "    .dataframe thead th {\n",
       "        text-align: right;\n",
       "    }\n",
       "</style>\n",
       "<table border=\"1\" class=\"dataframe\">\n",
       "  <thead>\n",
       "    <tr style=\"text-align: right;\">\n",
       "      <th></th>\n",
       "      <th>login_time</th>\n",
       "      <th>count</th>\n",
       "    </tr>\n",
       "  </thead>\n",
       "  <tbody>\n",
       "    <tr>\n",
       "      <th>6</th>\n",
       "      <td>1970-01-01 21:30:00</td>\n",
       "      <td>0</td>\n",
       "    </tr>\n",
       "    <tr>\n",
       "      <th>33</th>\n",
       "      <td>1970-01-02 04:15:00</td>\n",
       "      <td>0</td>\n",
       "    </tr>\n",
       "    <tr>\n",
       "      <th>41</th>\n",
       "      <td>1970-01-02 06:15:00</td>\n",
       "      <td>0</td>\n",
       "    </tr>\n",
       "    <tr>\n",
       "      <th>88</th>\n",
       "      <td>1970-01-02 18:00:00</td>\n",
       "      <td>0</td>\n",
       "    </tr>\n",
       "    <tr>\n",
       "      <th>147</th>\n",
       "      <td>1970-01-03 08:45:00</td>\n",
       "      <td>0</td>\n",
       "    </tr>\n",
       "    <tr>\n",
       "      <th>...</th>\n",
       "      <td>...</td>\n",
       "      <td>...</td>\n",
       "    </tr>\n",
       "    <tr>\n",
       "      <th>9555</th>\n",
       "      <td>1970-04-11 08:45:00</td>\n",
       "      <td>0</td>\n",
       "    </tr>\n",
       "    <tr>\n",
       "      <th>9734</th>\n",
       "      <td>1970-04-13 05:30:00</td>\n",
       "      <td>0</td>\n",
       "    </tr>\n",
       "    <tr>\n",
       "      <th>9736</th>\n",
       "      <td>1970-04-13 06:00:00</td>\n",
       "      <td>0</td>\n",
       "    </tr>\n",
       "    <tr>\n",
       "      <th>9738</th>\n",
       "      <td>1970-04-13 06:30:00</td>\n",
       "      <td>0</td>\n",
       "    </tr>\n",
       "    <tr>\n",
       "      <th>9740</th>\n",
       "      <td>1970-04-13 07:00:00</td>\n",
       "      <td>0</td>\n",
       "    </tr>\n",
       "  </tbody>\n",
       "</table>\n",
       "<p>407 rows × 2 columns</p>\n",
       "</div>"
      ],
      "text/plain": [
       "              login_time  count\n",
       "6    1970-01-01 21:30:00      0\n",
       "33   1970-01-02 04:15:00      0\n",
       "41   1970-01-02 06:15:00      0\n",
       "88   1970-01-02 18:00:00      0\n",
       "147  1970-01-03 08:45:00      0\n",
       "...                  ...    ...\n",
       "9555 1970-04-11 08:45:00      0\n",
       "9734 1970-04-13 05:30:00      0\n",
       "9736 1970-04-13 06:00:00      0\n",
       "9738 1970-04-13 06:30:00      0\n",
       "9740 1970-04-13 07:00:00      0\n",
       "\n",
       "[407 rows x 2 columns]"
      ]
     },
     "execution_count": 13,
     "metadata": {},
     "output_type": "execute_result"
    }
   ],
   "source": [
    "logins[logins['count'] == 0]"
   ]
  },
  {
   "cell_type": "markdown",
   "id": "6e08374f",
   "metadata": {},
   "source": [
    "The data is from January 1st, 1970 to April 13th, 1970. Four months of data."
   ]
  },
  {
   "cell_type": "markdown",
   "id": "de5a00c6",
   "metadata": {},
   "source": [
    "There where many times when there was no usage."
   ]
  },
  {
   "cell_type": "code",
   "execution_count": 14,
   "id": "d0c9c2b2",
   "metadata": {},
   "outputs": [
    {
     "data": {
      "text/plain": [
       "73"
      ]
     },
     "execution_count": 14,
     "metadata": {},
     "output_type": "execute_result"
    }
   ],
   "source": [
    "logins['count'].max()"
   ]
  },
  {
   "cell_type": "code",
   "execution_count": 15,
   "id": "9225f4d7",
   "metadata": {},
   "outputs": [
    {
     "data": {
      "text/html": [
       "<div>\n",
       "<style scoped>\n",
       "    .dataframe tbody tr th:only-of-type {\n",
       "        vertical-align: middle;\n",
       "    }\n",
       "\n",
       "    .dataframe tbody tr th {\n",
       "        vertical-align: top;\n",
       "    }\n",
       "\n",
       "    .dataframe thead th {\n",
       "        text-align: right;\n",
       "    }\n",
       "</style>\n",
       "<table border=\"1\" class=\"dataframe\">\n",
       "  <thead>\n",
       "    <tr style=\"text-align: right;\">\n",
       "      <th></th>\n",
       "      <th>login_time</th>\n",
       "      <th>count</th>\n",
       "    </tr>\n",
       "  </thead>\n",
       "  <tbody>\n",
       "    <tr>\n",
       "      <th>5602</th>\n",
       "      <td>1970-03-01 04:30:00</td>\n",
       "      <td>73</td>\n",
       "    </tr>\n",
       "  </tbody>\n",
       "</table>\n",
       "</div>"
      ],
      "text/plain": [
       "              login_time  count\n",
       "5602 1970-03-01 04:30:00     73"
      ]
     },
     "execution_count": 15,
     "metadata": {},
     "output_type": "execute_result"
    }
   ],
   "source": [
    "logins[logins['count'] == 73]"
   ]
  },
  {
   "cell_type": "code",
   "execution_count": 16,
   "id": "10f181a6",
   "metadata": {},
   "outputs": [
    {
     "name": "stdout",
     "output_type": "stream",
     "text": [
      "6 Sunday\n"
     ]
    }
   ],
   "source": [
    "#Lets see what day of the week we had the most logins on\n",
    "\n",
    "d = pd.Timestamp('1970-03-01')\n",
    "print(d.dayofweek, d.day_name())"
   ]
  },
  {
   "cell_type": "markdown",
   "id": "bedb4e3a",
   "metadata": {},
   "source": [
    "The most usage took place on a Sunday. More people are out and about on the weekends."
   ]
  },
  {
   "cell_type": "code",
   "execution_count": 17,
   "id": "12fd5cb5",
   "metadata": {},
   "outputs": [
    {
     "data": {
      "text/plain": [
       "9.51593788312219"
      ]
     },
     "execution_count": 17,
     "metadata": {},
     "output_type": "execute_result"
    }
   ],
   "source": [
    "logins['count'].mean()"
   ]
  },
  {
   "cell_type": "markdown",
   "id": "57cdf2fb",
   "metadata": {},
   "source": [
    "The average usage is 9.51."
   ]
  },
  {
   "cell_type": "code",
   "execution_count": 18,
   "id": "7a1622ab",
   "metadata": {},
   "outputs": [
    {
     "data": {
      "text/plain": [
       "8.328818383338547"
      ]
     },
     "execution_count": 18,
     "metadata": {},
     "output_type": "execute_result"
    }
   ],
   "source": [
    "logins['count'].std()"
   ]
  },
  {
   "cell_type": "markdown",
   "id": "f62aa80a",
   "metadata": {},
   "source": [
    "The standard deviation is relatively high. This means there is a lot of fluctions from each timestamp."
   ]
  },
  {
   "cell_type": "markdown",
   "id": "a48fa9b9",
   "metadata": {},
   "source": [
    "## 3. Visualizing the Data"
   ]
  },
  {
   "cell_type": "markdown",
   "id": "74a40694",
   "metadata": {},
   "source": [
    "###  3.1 The entire Dataset"
   ]
  },
  {
   "cell_type": "code",
   "execution_count": 19,
   "id": "bd860a4f",
   "metadata": {},
   "outputs": [
    {
     "data": {
      "image/png": "[encoded data removed]",
      "text/plain": [
       "<Figure size 1440x576 with 1 Axes>"
      ]
     },
     "metadata": {
      "needs_background": "light"
     },
     "output_type": "display_data"
    }
   ],
   "source": [
    "# Here is the entire dataset\n",
    "\n",
    "x=logins['login_time']\n",
    "y=logins['count']\n",
    "\n",
    "plt.figure(figsize = (20,8))\n",
    "plt.title('January - April 1970 Usage')\n",
    "plt.plot(x,y)\n",
    "plt.ylabel('Usage', fontsize=24)\n",
    "plt.xlabel('Time', fontsize=24)\n",
    "plt.show()"
   ]
  },
  {
   "cell_type": "markdown",
   "id": "202706e0",
   "metadata": {},
   "source": [
    "It looks as if there is high usage on the weekends or later in the week. At the start of the week there is not as much action."
   ]
  },
  {
   "cell_type": "markdown",
   "id": "7372c8f6",
   "metadata": {},
   "source": [
    "### 3.2 The break down of each hour"
   ]
  },
  {
   "cell_type": "code",
   "execution_count": 20,
   "id": "864b6139",
   "metadata": {},
   "outputs": [
    {
     "name": "stdout",
     "output_type": "stream",
     "text": [
      "<class 'pandas.core.frame.DataFrame'>\n",
      "RangeIndex: 9788 entries, 0 to 9787\n",
      "Data columns (total 2 columns):\n",
      " #   Column      Non-Null Count  Dtype         \n",
      "---  ------      --------------  -----         \n",
      " 0   login_time  9788 non-null   datetime64[ns]\n",
      " 1   count       9788 non-null   int64         \n",
      "dtypes: datetime64[ns](1), int64(1)\n",
      "memory usage: 153.1 KB\n"
     ]
    }
   ],
   "source": [
    "logins.info()"
   ]
  },
  {
   "cell_type": "code",
   "execution_count": 21,
   "id": "81bee81c",
   "metadata": {},
   "outputs": [
    {
     "data": {
      "text/html": [
       "<div>\n",
       "<style scoped>\n",
       "    .dataframe tbody tr th:only-of-type {\n",
       "        vertical-align: middle;\n",
       "    }\n",
       "\n",
       "    .dataframe tbody tr th {\n",
       "        vertical-align: top;\n",
       "    }\n",
       "\n",
       "    .dataframe thead th {\n",
       "        text-align: right;\n",
       "    }\n",
       "</style>\n",
       "<table border=\"1\" class=\"dataframe\">\n",
       "  <thead>\n",
       "    <tr style=\"text-align: right;\">\n",
       "      <th></th>\n",
       "      <th>hour</th>\n",
       "      <th>count</th>\n",
       "    </tr>\n",
       "  </thead>\n",
       "  <tbody>\n",
       "    <tr>\n",
       "      <th>22</th>\n",
       "      <td>22</td>\n",
       "      <td>6607</td>\n",
       "    </tr>\n",
       "    <tr>\n",
       "      <th>1</th>\n",
       "      <td>1</td>\n",
       "      <td>6317</td>\n",
       "    </tr>\n",
       "    <tr>\n",
       "      <th>23</th>\n",
       "      <td>23</td>\n",
       "      <td>6058</td>\n",
       "    </tr>\n",
       "    <tr>\n",
       "      <th>0</th>\n",
       "      <td>0</td>\n",
       "      <td>5993</td>\n",
       "    </tr>\n",
       "    <tr>\n",
       "      <th>2</th>\n",
       "      <td>2</td>\n",
       "      <td>5800</td>\n",
       "    </tr>\n",
       "    <tr>\n",
       "      <th>11</th>\n",
       "      <td>11</td>\n",
       "      <td>5799</td>\n",
       "    </tr>\n",
       "    <tr>\n",
       "      <th>21</th>\n",
       "      <td>21</td>\n",
       "      <td>5623</td>\n",
       "    </tr>\n",
       "    <tr>\n",
       "      <th>4</th>\n",
       "      <td>4</td>\n",
       "      <td>5034</td>\n",
       "    </tr>\n",
       "    <tr>\n",
       "      <th>12</th>\n",
       "      <td>12</td>\n",
       "      <td>4964</td>\n",
       "    </tr>\n",
       "    <tr>\n",
       "      <th>3</th>\n",
       "      <td>3</td>\n",
       "      <td>4831</td>\n",
       "    </tr>\n",
       "    <tr>\n",
       "      <th>20</th>\n",
       "      <td>20</td>\n",
       "      <td>4103</td>\n",
       "    </tr>\n",
       "    <tr>\n",
       "      <th>13</th>\n",
       "      <td>13</td>\n",
       "      <td>3611</td>\n",
       "    </tr>\n",
       "    <tr>\n",
       "      <th>14</th>\n",
       "      <td>14</td>\n",
       "      <td>3426</td>\n",
       "    </tr>\n",
       "    <tr>\n",
       "      <th>19</th>\n",
       "      <td>19</td>\n",
       "      <td>3235</td>\n",
       "    </tr>\n",
       "    <tr>\n",
       "      <th>10</th>\n",
       "      <td>10</td>\n",
       "      <td>3064</td>\n",
       "    </tr>\n",
       "    <tr>\n",
       "      <th>15</th>\n",
       "      <td>15</td>\n",
       "      <td>3038</td>\n",
       "    </tr>\n",
       "    <tr>\n",
       "      <th>18</th>\n",
       "      <td>18</td>\n",
       "      <td>2980</td>\n",
       "    </tr>\n",
       "    <tr>\n",
       "      <th>5</th>\n",
       "      <td>5</td>\n",
       "      <td>2945</td>\n",
       "    </tr>\n",
       "    <tr>\n",
       "      <th>16</th>\n",
       "      <td>16</td>\n",
       "      <td>2832</td>\n",
       "    </tr>\n",
       "    <tr>\n",
       "      <th>17</th>\n",
       "      <td>17</td>\n",
       "      <td>2584</td>\n",
       "    </tr>\n",
       "    <tr>\n",
       "      <th>9</th>\n",
       "      <td>9</td>\n",
       "      <td>1527</td>\n",
       "    </tr>\n",
       "    <tr>\n",
       "      <th>6</th>\n",
       "      <td>6</td>\n",
       "      <td>1138</td>\n",
       "    </tr>\n",
       "    <tr>\n",
       "      <th>8</th>\n",
       "      <td>8</td>\n",
       "      <td>818</td>\n",
       "    </tr>\n",
       "    <tr>\n",
       "      <th>7</th>\n",
       "      <td>7</td>\n",
       "      <td>815</td>\n",
       "    </tr>\n",
       "  </tbody>\n",
       "</table>\n",
       "</div>"
      ],
      "text/plain": [
       "    hour  count\n",
       "22    22   6607\n",
       "1      1   6317\n",
       "23    23   6058\n",
       "0      0   5993\n",
       "2      2   5800\n",
       "11    11   5799\n",
       "21    21   5623\n",
       "4      4   5034\n",
       "12    12   4964\n",
       "3      3   4831\n",
       "20    20   4103\n",
       "13    13   3611\n",
       "14    14   3426\n",
       "19    19   3235\n",
       "10    10   3064\n",
       "15    15   3038\n",
       "18    18   2980\n",
       "5      5   2945\n",
       "16    16   2832\n",
       "17    17   2584\n",
       "9      9   1527\n",
       "6      6   1138\n",
       "8      8    818\n",
       "7      7    815"
      ]
     },
     "execution_count": 21,
     "metadata": {},
     "output_type": "execute_result"
    }
   ],
   "source": [
    "# Which hours have the most logins\n",
    "\n",
    "logins['hour'] = logins['login_time'].dt.hour\n",
    "diff_hour = logins[['count', 'hour']]\n",
    "diff_hour = logins.groupby('hour').sum().reset_index()\n",
    "diff_hour.sort_values(by='count', ascending=False)"
   ]
  },
  {
   "cell_type": "code",
   "execution_count": 22,
   "id": "d765bbc9",
   "metadata": {},
   "outputs": [
    {
     "data": {
      "image/png": "[encoded data removed]",
      "text/plain": [
       "<Figure size 432x288 with 1 Axes>"
      ]
     },
     "metadata": {
      "needs_background": "light"
     },
     "output_type": "display_data"
    }
   ],
   "source": [
    "sns.barplot(x= 'hour', y='count', data=diff_hour, color='blue')\n",
    "plt.xlabel('Hour of Day')\n",
    "plt.title('Daily Login Usage')\n",
    "plt.ylabel('# of Logins')\n",
    "plt.show()"
   ]
  },
  {
   "cell_type": "markdown",
   "id": "540089d3",
   "metadata": {},
   "source": [
    "This graph shows us that usage is highest in 22nd hour/10pm. The logins are high in the early morning from the 0-4 hour/12-4am. Then declines in the morning from 5-8am. It increase gradually from 9-11am then declines from 11am-5pm. It starts to rise from 5pm to 10pm. Peak hours are late at night and very early in the morning as well as midday."
   ]
  },
  {
   "cell_type": "markdown",
   "id": "237b9880",
   "metadata": {},
   "source": [
    "### 3.3 Days of the Week"
   ]
  },
  {
   "cell_type": "code",
   "execution_count": 23,
   "id": "09db6c8d",
   "metadata": {},
   "outputs": [
    {
     "data": {
      "text/html": [
       "<div>\n",
       "<style scoped>\n",
       "    .dataframe tbody tr th:only-of-type {\n",
       "        vertical-align: middle;\n",
       "    }\n",
       "\n",
       "    .dataframe tbody tr th {\n",
       "        vertical-align: top;\n",
       "    }\n",
       "\n",
       "    .dataframe thead th {\n",
       "        text-align: right;\n",
       "    }\n",
       "</style>\n",
       "<table border=\"1\" class=\"dataframe\">\n",
       "  <thead>\n",
       "    <tr style=\"text-align: right;\">\n",
       "      <th></th>\n",
       "      <th>Day of Week</th>\n",
       "      <th>count</th>\n",
       "    </tr>\n",
       "  </thead>\n",
       "  <tbody>\n",
       "    <tr>\n",
       "      <th>5</th>\n",
       "      <td>Saturday</td>\n",
       "      <td>19377</td>\n",
       "    </tr>\n",
       "    <tr>\n",
       "      <th>6</th>\n",
       "      <td>Sunday</td>\n",
       "      <td>18167</td>\n",
       "    </tr>\n",
       "    <tr>\n",
       "      <th>4</th>\n",
       "      <td>Friday</td>\n",
       "      <td>15208</td>\n",
       "    </tr>\n",
       "    <tr>\n",
       "      <th>3</th>\n",
       "      <td>Thursday</td>\n",
       "      <td>11960</td>\n",
       "    </tr>\n",
       "    <tr>\n",
       "      <th>2</th>\n",
       "      <td>Wednesday</td>\n",
       "      <td>10339</td>\n",
       "    </tr>\n",
       "    <tr>\n",
       "      <th>1</th>\n",
       "      <td>Tuesday</td>\n",
       "      <td>9268</td>\n",
       "    </tr>\n",
       "    <tr>\n",
       "      <th>0</th>\n",
       "      <td>Monday</td>\n",
       "      <td>8823</td>\n",
       "    </tr>\n",
       "  </tbody>\n",
       "</table>\n",
       "</div>"
      ],
      "text/plain": [
       "  Day of Week  count\n",
       "5    Saturday  19377\n",
       "6      Sunday  18167\n",
       "4      Friday  15208\n",
       "3    Thursday  11960\n",
       "2   Wednesday  10339\n",
       "1     Tuesday   9268\n",
       "0      Monday   8823"
      ]
     },
     "execution_count": 23,
     "metadata": {},
     "output_type": "execute_result"
    }
   ],
   "source": [
    "# Lets see which days are the busiest\n",
    "\n",
    "logins['Day of Week'] = logins['login_time'].dt.dayofweek\n",
    "day_count = logins.groupby('Day of Week').sum().reset_index()\n",
    "\n",
    "day_count['Day of Week'] = ['Monday', 'Tuesday', 'Wednesday','Thursday','Friday', 'Saturday', 'Sunday']\n",
    "day = day_count[['Day of Week','count']]\n",
    "day.sort_values(by='count', ascending=False)\n"
   ]
  },
  {
   "cell_type": "code",
   "execution_count": 24,
   "id": "6b7cd8b7",
   "metadata": {},
   "outputs": [
    {
     "data": {
      "image/png": "[encoded data removed]",
      "text/plain": [
       "<Figure size 432x288 with 1 Axes>"
      ]
     },
     "metadata": {
      "needs_background": "light"
     },
     "output_type": "display_data"
    }
   ],
   "source": [
    "sns.barplot(x= 'Day of Week', y='count', data=day_count)\n",
    "plt.xlabel('Day of the Week')\n",
    "plt.xticks(rotation = 45)\n",
    "plt.title('Day of week Login Distribution')\n",
    "plt.ylabel('Number of Logins')\n",
    "plt.show()"
   ]
  },
  {
   "cell_type": "markdown",
   "id": "7e7cb32b",
   "metadata": {},
   "source": [
    "Here we can see that logins increase as the week goes on. There is a small drop off on Sundays."
   ]
  },
  {
   "cell_type": "markdown",
   "id": "53cd62a4",
   "metadata": {},
   "source": [
    "## Part 2 ‐ Experiment and metrics design"
   ]
  },
  {
   "cell_type": "markdown",
   "id": "9894d1c7",
   "metadata": {},
   "source": [
    "The neighboring cities of Gotham and Metropolis have complementary circadian rhythms: on weekdays, Ultimate Gotham is most active at night, and Ultimate Metropolis is most active during the day. On weekends, there is reasonable activity in both cities.\n",
    "\n",
    "However, a toll bridge, with a two way toll, between the two cities causes driver partners to tend to be exclusive to each city. The Ultimate managers of city operations for the two cities have proposed an experiment to encourage driver partners to be available in both cities, by reimbursing all toll costs."
   ]
  },
  {
   "cell_type": "markdown",
   "id": "3c500020",
   "metadata": {},
   "source": [
    "**1) What would you choose as the key measure of success of this experiment in\n",
    "encouraging driver partners to serve both cities, and why would you choose this metric?**\n",
    "\n",
    "The key measurement of success would be to see if it is beneficial to customers and drivers to serve both cities. I would measure three variables to see if the experiment is worth it:\n",
    "\n",
    "* If it reduces wait times for customer\n",
    "* Increases profit for the drivers\n",
    "* Is it worth it for the city to reimburse the drivers for the toll\n",
    "        \n",
    "These three variables are the most valuable aspects of the experiment. The most important element to customers is convenience of obtaining a ride and the city wants happy customers and less congestion on their roads. The drivers are potentially interested in making more money by spending time in a different city. The city wants to know if it is worth it to pay the tolls by sending drivers across the bridge."
   ]
  },
  {
   "cell_type": "markdown",
   "id": "cd599b49",
   "metadata": {},
   "source": [
    "**2) Describe a practical experiment you would design to compare the effectiveness of the proposed change in relation to the key measure of success. Please provide details on:**\n",
    "\n",
    "We would implement this by conducting an A/B test.\n",
    "\n",
    "**a) how you will implement the experiment:**\n",
    "\n",
    "We would collect data from drivers, tolls, and customers from before and after the experiment and compare them. We would compare average wait times before and after the change. Also to compare profits as well before and after the experiment. Lastly, we could look at the data on the tolls each city paid for the drivers and compare it to reduced traffic during peak hours and customer ratings before and after.\n",
    "\n",
    "**b) what statistical test(s) you will conduct to verify the significance of the observation:**\n",
    "\n",
    "We would do a null hypothesis test on the three variables to verify the significance of the observation. Our null hypothesis would be that nothing has changed by paying for the drivers tolls by serving both cities. This would indicate that each individual variable all had the same mean before and after the experiment. For example the mean of profits for all drivers is the same before and after. We could do a trail of 12 months for seasonal adjustments. Here we could compare the data for every month before and after. Now we would test our null hypothesis on each variable.\n",
    "\n",
    "* For wait times: The p-value would be that a customer waited 60 seconds less not in the experiment. This is the probability that a customer waited less before the experiment. If this happened less than 5% of the time then we can reject the null hypothesis and it is highly unlikely to happen. Then the experiment of paying for tolls and having drivers go to opposite cities is worth paying for the tolls. This is statistically significant.\n",
    "\n",
    "* Profits: The p-value would be that the drivers made 20% more not in the experiment. This is the probability that a driver made more money before the experiment. If this happened less than 5% of the time then we can reject the null hypothesis and it is highly unlikely to happen. Then the experiment is a success and is statistically significant.\n",
    "\n",
    "* Toll Payment: The p-value would be that the city had higher customer ratings and less traffic not in the experiment. This is the probability that customers were happier and had less wait times in traffic before the experiment. If this happened less than 5% of the time then we can reject the null hypothesis and it is highly unlikely to happen. Then the experiment is a success and is statistically significant.\n",
    "\n",
    "**c) how you would interpret the results and provide recommendations to the city operations team along with any caveats:**\n",
    "\n",
    "If we reject each of these null hypothesis then we know that the city should continue the program. If the numbers from the data do not express an improvement they should go back to the drivers staying in their individual cities.\n",
    "The caveats are the quality and length of the experiment. Issues like will the drivers actually go to the opposite cities and increased traffic at certain times are a few of the issues that might come from the experiment. The city would need to work out these different issues by implementing the project as they arise.\n"
   ]
  },
  {
   "cell_type": "markdown",
   "id": "e193a16c",
   "metadata": {},
   "source": [
    "## Part 3 ‐ Predictive modeling\n"
   ]
  },
  {
   "cell_type": "markdown",
   "id": "60dd3bde",
   "metadata": {},
   "source": [
    "Ultimate is interested in predicting rider retention. To help explore this question, we have\n",
    "provided a sample dataset of a cohort of users who signed up for an Ultimate account in\n",
    "January 2014. The data was pulled several months later; we consider a user retained if they\n",
    "were “active” (i.e. took a trip) in the preceding 30 days.\n",
    "\n",
    "We would like you to use this data set to help understand what factors are the best predictors\n",
    "for retention, and offer suggestions to operationalize those insights to help Ultimate.\n",
    "The data is in the attached file ultimate_data_challenge.json. See below for a detailed\n",
    "description of the dataset. Please include any code you wrote for the analysis and delete the\n",
    "dataset when you have finished with the challenge.\n"
   ]
  },
  {
   "cell_type": "markdown",
   "id": "f98e9d51",
   "metadata": {},
   "source": [
    "## 1. Import Packages & Load Data"
   ]
  },
  {
   "cell_type": "code",
   "execution_count": 25,
   "id": "c29733c3",
   "metadata": {},
   "outputs": [],
   "source": [
    "import pandas as pd\n",
    "import matplotlib.pyplot as plt\n",
    "import numpy as np\n",
    "import json\n",
    "import seaborn as sns\n",
    "import sklearn"
   ]
  },
  {
   "cell_type": "code",
   "execution_count": 26,
   "id": "213a7fef",
   "metadata": {},
   "outputs": [],
   "source": [
    "df = pd.read_json('ultimate_data_challenge.json')"
   ]
  },
  {
   "cell_type": "markdown",
   "id": "d24a967e",
   "metadata": {},
   "source": [
    "## 2. EDA"
   ]
  },
  {
   "cell_type": "code",
   "execution_count": 27,
   "id": "85f1fb30",
   "metadata": {},
   "outputs": [
    {
     "data": {
      "text/html": [
       "<div>\n",
       "<style scoped>\n",
       "    .dataframe tbody tr th:only-of-type {\n",
       "        vertical-align: middle;\n",
       "    }\n",
       "\n",
       "    .dataframe tbody tr th {\n",
       "        vertical-align: top;\n",
       "    }\n",
       "\n",
       "    .dataframe thead th {\n",
       "        text-align: right;\n",
       "    }\n",
       "</style>\n",
       "<table border=\"1\" class=\"dataframe\">\n",
       "  <thead>\n",
       "    <tr style=\"text-align: right;\">\n",
       "      <th></th>\n",
       "      <th>city</th>\n",
       "      <th>trips_in_first_30_days</th>\n",
       "      <th>signup_date</th>\n",
       "      <th>avg_rating_of_driver</th>\n",
       "      <th>avg_surge</th>\n",
       "      <th>last_trip_date</th>\n",
       "      <th>phone</th>\n",
       "      <th>surge_pct</th>\n",
       "      <th>ultimate_black_user</th>\n",
       "      <th>weekday_pct</th>\n",
       "      <th>avg_dist</th>\n",
       "      <th>avg_rating_by_driver</th>\n",
       "    </tr>\n",
       "  </thead>\n",
       "  <tbody>\n",
       "    <tr>\n",
       "      <th>0</th>\n",
       "      <td>King's Landing</td>\n",
       "      <td>4</td>\n",
       "      <td>2014-01-25</td>\n",
       "      <td>4.7</td>\n",
       "      <td>1.10</td>\n",
       "      <td>2014-06-17</td>\n",
       "      <td>iPhone</td>\n",
       "      <td>15.4</td>\n",
       "      <td>True</td>\n",
       "      <td>46.2</td>\n",
       "      <td>3.67</td>\n",
       "      <td>5.0</td>\n",
       "    </tr>\n",
       "    <tr>\n",
       "      <th>1</th>\n",
       "      <td>Astapor</td>\n",
       "      <td>0</td>\n",
       "      <td>2014-01-29</td>\n",
       "      <td>5.0</td>\n",
       "      <td>1.00</td>\n",
       "      <td>2014-05-05</td>\n",
       "      <td>Android</td>\n",
       "      <td>0.0</td>\n",
       "      <td>False</td>\n",
       "      <td>50.0</td>\n",
       "      <td>8.26</td>\n",
       "      <td>5.0</td>\n",
       "    </tr>\n",
       "    <tr>\n",
       "      <th>2</th>\n",
       "      <td>Astapor</td>\n",
       "      <td>3</td>\n",
       "      <td>2014-01-06</td>\n",
       "      <td>4.3</td>\n",
       "      <td>1.00</td>\n",
       "      <td>2014-01-07</td>\n",
       "      <td>iPhone</td>\n",
       "      <td>0.0</td>\n",
       "      <td>False</td>\n",
       "      <td>100.0</td>\n",
       "      <td>0.77</td>\n",
       "      <td>5.0</td>\n",
       "    </tr>\n",
       "    <tr>\n",
       "      <th>3</th>\n",
       "      <td>King's Landing</td>\n",
       "      <td>9</td>\n",
       "      <td>2014-01-10</td>\n",
       "      <td>4.6</td>\n",
       "      <td>1.14</td>\n",
       "      <td>2014-06-29</td>\n",
       "      <td>iPhone</td>\n",
       "      <td>20.0</td>\n",
       "      <td>True</td>\n",
       "      <td>80.0</td>\n",
       "      <td>2.36</td>\n",
       "      <td>4.9</td>\n",
       "    </tr>\n",
       "    <tr>\n",
       "      <th>4</th>\n",
       "      <td>Winterfell</td>\n",
       "      <td>14</td>\n",
       "      <td>2014-01-27</td>\n",
       "      <td>4.4</td>\n",
       "      <td>1.19</td>\n",
       "      <td>2014-03-15</td>\n",
       "      <td>Android</td>\n",
       "      <td>11.8</td>\n",
       "      <td>False</td>\n",
       "      <td>82.4</td>\n",
       "      <td>3.13</td>\n",
       "      <td>4.9</td>\n",
       "    </tr>\n",
       "    <tr>\n",
       "      <th>5</th>\n",
       "      <td>Winterfell</td>\n",
       "      <td>2</td>\n",
       "      <td>2014-01-09</td>\n",
       "      <td>3.5</td>\n",
       "      <td>1.00</td>\n",
       "      <td>2014-06-06</td>\n",
       "      <td>iPhone</td>\n",
       "      <td>0.0</td>\n",
       "      <td>True</td>\n",
       "      <td>100.0</td>\n",
       "      <td>10.56</td>\n",
       "      <td>5.0</td>\n",
       "    </tr>\n",
       "    <tr>\n",
       "      <th>6</th>\n",
       "      <td>Astapor</td>\n",
       "      <td>1</td>\n",
       "      <td>2014-01-24</td>\n",
       "      <td>NaN</td>\n",
       "      <td>1.00</td>\n",
       "      <td>2014-01-25</td>\n",
       "      <td>Android</td>\n",
       "      <td>0.0</td>\n",
       "      <td>False</td>\n",
       "      <td>100.0</td>\n",
       "      <td>3.95</td>\n",
       "      <td>4.0</td>\n",
       "    </tr>\n",
       "    <tr>\n",
       "      <th>7</th>\n",
       "      <td>Winterfell</td>\n",
       "      <td>2</td>\n",
       "      <td>2014-01-28</td>\n",
       "      <td>5.0</td>\n",
       "      <td>1.00</td>\n",
       "      <td>2014-01-29</td>\n",
       "      <td>iPhone</td>\n",
       "      <td>0.0</td>\n",
       "      <td>False</td>\n",
       "      <td>100.0</td>\n",
       "      <td>2.04</td>\n",
       "      <td>5.0</td>\n",
       "    </tr>\n",
       "    <tr>\n",
       "      <th>8</th>\n",
       "      <td>Winterfell</td>\n",
       "      <td>2</td>\n",
       "      <td>2014-01-21</td>\n",
       "      <td>4.5</td>\n",
       "      <td>1.00</td>\n",
       "      <td>2014-02-01</td>\n",
       "      <td>Android</td>\n",
       "      <td>0.0</td>\n",
       "      <td>False</td>\n",
       "      <td>100.0</td>\n",
       "      <td>4.36</td>\n",
       "      <td>5.0</td>\n",
       "    </tr>\n",
       "    <tr>\n",
       "      <th>9</th>\n",
       "      <td>Winterfell</td>\n",
       "      <td>1</td>\n",
       "      <td>2014-01-03</td>\n",
       "      <td>NaN</td>\n",
       "      <td>1.00</td>\n",
       "      <td>2014-01-05</td>\n",
       "      <td>Android</td>\n",
       "      <td>0.0</td>\n",
       "      <td>False</td>\n",
       "      <td>0.0</td>\n",
       "      <td>2.37</td>\n",
       "      <td>5.0</td>\n",
       "    </tr>\n",
       "    <tr>\n",
       "      <th>10</th>\n",
       "      <td>Winterfell</td>\n",
       "      <td>1</td>\n",
       "      <td>2014-01-13</td>\n",
       "      <td>5.0</td>\n",
       "      <td>1.00</td>\n",
       "      <td>2014-05-30</td>\n",
       "      <td>iPhone</td>\n",
       "      <td>0.0</td>\n",
       "      <td>True</td>\n",
       "      <td>100.0</td>\n",
       "      <td>4.28</td>\n",
       "      <td>4.9</td>\n",
       "    </tr>\n",
       "    <tr>\n",
       "      <th>11</th>\n",
       "      <td>Winterfell</td>\n",
       "      <td>3</td>\n",
       "      <td>2014-01-06</td>\n",
       "      <td>4.0</td>\n",
       "      <td>1.00</td>\n",
       "      <td>2014-01-10</td>\n",
       "      <td>iPhone</td>\n",
       "      <td>0.0</td>\n",
       "      <td>False</td>\n",
       "      <td>100.0</td>\n",
       "      <td>3.81</td>\n",
       "      <td>5.0</td>\n",
       "    </tr>\n",
       "    <tr>\n",
       "      <th>12</th>\n",
       "      <td>Winterfell</td>\n",
       "      <td>1</td>\n",
       "      <td>2014-01-15</td>\n",
       "      <td>NaN</td>\n",
       "      <td>1.00</td>\n",
       "      <td>2014-03-12</td>\n",
       "      <td>iPhone</td>\n",
       "      <td>0.0</td>\n",
       "      <td>False</td>\n",
       "      <td>100.0</td>\n",
       "      <td>20.29</td>\n",
       "      <td>5.0</td>\n",
       "    </tr>\n",
       "    <tr>\n",
       "      <th>13</th>\n",
       "      <td>King's Landing</td>\n",
       "      <td>0</td>\n",
       "      <td>2014-01-29</td>\n",
       "      <td>4.0</td>\n",
       "      <td>1.38</td>\n",
       "      <td>2014-06-08</td>\n",
       "      <td>iPhone</td>\n",
       "      <td>50.0</td>\n",
       "      <td>False</td>\n",
       "      <td>50.0</td>\n",
       "      <td>3.04</td>\n",
       "      <td>5.0</td>\n",
       "    </tr>\n",
       "    <tr>\n",
       "      <th>14</th>\n",
       "      <td>Astapor</td>\n",
       "      <td>1</td>\n",
       "      <td>2014-01-27</td>\n",
       "      <td>NaN</td>\n",
       "      <td>1.00</td>\n",
       "      <td>2014-01-28</td>\n",
       "      <td>Android</td>\n",
       "      <td>0.0</td>\n",
       "      <td>False</td>\n",
       "      <td>100.0</td>\n",
       "      <td>26.01</td>\n",
       "      <td>5.0</td>\n",
       "    </tr>\n",
       "  </tbody>\n",
       "</table>\n",
       "</div>"
      ],
      "text/plain": [
       "              city  trips_in_first_30_days signup_date  avg_rating_of_driver  \\\n",
       "0   King's Landing                       4  2014-01-25                   4.7   \n",
       "1          Astapor                       0  2014-01-29                   5.0   \n",
       "2          Astapor                       3  2014-01-06                   4.3   \n",
       "3   King's Landing                       9  2014-01-10                   4.6   \n",
       "4       Winterfell                      14  2014-01-27                   4.4   \n",
       "5       Winterfell                       2  2014-01-09                   3.5   \n",
       "6          Astapor                       1  2014-01-24                   NaN   \n",
       "7       Winterfell                       2  2014-01-28                   5.0   \n",
       "8       Winterfell                       2  2014-01-21                   4.5   \n",
       "9       Winterfell                       1  2014-01-03                   NaN   \n",
       "10      Winterfell                       1  2014-01-13                   5.0   \n",
       "11      Winterfell                       3  2014-01-06                   4.0   \n",
       "12      Winterfell                       1  2014-01-15                   NaN   \n",
       "13  King's Landing                       0  2014-01-29                   4.0   \n",
       "14         Astapor                       1  2014-01-27                   NaN   \n",
       "\n",
       "    avg_surge last_trip_date    phone  surge_pct  ultimate_black_user  \\\n",
       "0        1.10     2014-06-17   iPhone       15.4                 True   \n",
       "1        1.00     2014-05-05  Android        0.0                False   \n",
       "2        1.00     2014-01-07   iPhone        0.0                False   \n",
       "3        1.14     2014-06-29   iPhone       20.0                 True   \n",
       "4        1.19     2014-03-15  Android       11.8                False   \n",
       "5        1.00     2014-06-06   iPhone        0.0                 True   \n",
       "6        1.00     2014-01-25  Android        0.0                False   \n",
       "7        1.00     2014-01-29   iPhone        0.0                False   \n",
       "8        1.00     2014-02-01  Android        0.0                False   \n",
       "9        1.00     2014-01-05  Android        0.0                False   \n",
       "10       1.00     2014-05-30   iPhone        0.0                 True   \n",
       "11       1.00     2014-01-10   iPhone        0.0                False   \n",
       "12       1.00     2014-03-12   iPhone        0.0                False   \n",
       "13       1.38     2014-06-08   iPhone       50.0                False   \n",
       "14       1.00     2014-01-28  Android        0.0                False   \n",
       "\n",
       "    weekday_pct  avg_dist  avg_rating_by_driver  \n",
       "0          46.2      3.67                   5.0  \n",
       "1          50.0      8.26                   5.0  \n",
       "2         100.0      0.77                   5.0  \n",
       "3          80.0      2.36                   4.9  \n",
       "4          82.4      3.13                   4.9  \n",
       "5         100.0     10.56                   5.0  \n",
       "6         100.0      3.95                   4.0  \n",
       "7         100.0      2.04                   5.0  \n",
       "8         100.0      4.36                   5.0  \n",
       "9           0.0      2.37                   5.0  \n",
       "10        100.0      4.28                   4.9  \n",
       "11        100.0      3.81                   5.0  \n",
       "12        100.0     20.29                   5.0  \n",
       "13         50.0      3.04                   5.0  \n",
       "14        100.0     26.01                   5.0  "
      ]
     },
     "execution_count": 27,
     "metadata": {},
     "output_type": "execute_result"
    }
   ],
   "source": [
    "df.head(15)"
   ]
  },
  {
   "cell_type": "code",
   "execution_count": 28,
   "id": "6c9d8669",
   "metadata": {},
   "outputs": [
    {
     "name": "stdout",
     "output_type": "stream",
     "text": [
      "<class 'pandas.core.frame.DataFrame'>\n",
      "RangeIndex: 50000 entries, 0 to 49999\n",
      "Data columns (total 12 columns):\n",
      " #   Column                  Non-Null Count  Dtype  \n",
      "---  ------                  --------------  -----  \n",
      " 0   city                    50000 non-null  object \n",
      " 1   trips_in_first_30_days  50000 non-null  int64  \n",
      " 2   signup_date             50000 non-null  object \n",
      " 3   avg_rating_of_driver    41878 non-null  float64\n",
      " 4   avg_surge               50000 non-null  float64\n",
      " 5   last_trip_date          50000 non-null  object \n",
      " 6   phone                   49604 non-null  object \n",
      " 7   surge_pct               50000 non-null  float64\n",
      " 8   ultimate_black_user     50000 non-null  bool   \n",
      " 9   weekday_pct             50000 non-null  float64\n",
      " 10  avg_dist                50000 non-null  float64\n",
      " 11  avg_rating_by_driver    49799 non-null  float64\n",
      "dtypes: bool(1), float64(6), int64(1), object(4)\n",
      "memory usage: 4.2+ MB\n"
     ]
    }
   ],
   "source": [
    "df.info()"
   ]
  },
  {
   "cell_type": "markdown",
   "id": "3b3a47e2",
   "metadata": {},
   "source": [
    "Here it looks like there is some data missing from the average rating of the driver, phone and average rating by driver. We need to explore these three columns and figure out what to do with the null values."
   ]
  },
  {
   "cell_type": "markdown",
   "id": "c482d22d",
   "metadata": {},
   "source": [
    "### 2.1 Phone Column Nulls"
   ]
  },
  {
   "cell_type": "code",
   "execution_count": 29,
   "id": "8924bcd7",
   "metadata": {},
   "outputs": [
    {
     "data": {
      "text/plain": [
       "iPhone     34582\n",
       "Android    15022\n",
       "Name: phone, dtype: int64"
      ]
     },
     "execution_count": 29,
     "metadata": {},
     "output_type": "execute_result"
    }
   ],
   "source": [
    "df['phone'].value_counts()"
   ]
  },
  {
   "cell_type": "code",
   "execution_count": 30,
   "id": "d4341b4f",
   "metadata": {},
   "outputs": [
    {
     "data": {
      "text/plain": [
       "396"
      ]
     },
     "execution_count": 30,
     "metadata": {},
     "output_type": "execute_result"
    }
   ],
   "source": [
    "df['phone'].isnull().sum()"
   ]
  },
  {
   "cell_type": "markdown",
   "id": "38a140fe",
   "metadata": {},
   "source": [
    "More than likely a the 396 riders didnt have a phone. Lets fill in the null values as 'No Phone'."
   ]
  },
  {
   "cell_type": "code",
   "execution_count": 31,
   "id": "570a2632",
   "metadata": {},
   "outputs": [],
   "source": [
    "df['phone'].fillna('No Phone', inplace=True)"
   ]
  },
  {
   "cell_type": "code",
   "execution_count": 32,
   "id": "9b86798b",
   "metadata": {},
   "outputs": [
    {
     "data": {
      "text/plain": [
       "iPhone      34582\n",
       "Android     15022\n",
       "No Phone      396\n",
       "Name: phone, dtype: int64"
      ]
     },
     "execution_count": 32,
     "metadata": {},
     "output_type": "execute_result"
    }
   ],
   "source": [
    "df['phone'].value_counts()"
   ]
  },
  {
   "cell_type": "markdown",
   "id": "ab9b01df",
   "metadata": {},
   "source": [
    "### 2.2 Average Rating of Driver Nulls"
   ]
  },
  {
   "cell_type": "code",
   "execution_count": 33,
   "id": "9c116c73",
   "metadata": {},
   "outputs": [
    {
     "data": {
      "text/plain": [
       "8122"
      ]
     },
     "execution_count": 33,
     "metadata": {},
     "output_type": "execute_result"
    }
   ],
   "source": [
    "df['avg_rating_of_driver'].isnull().sum()"
   ]
  },
  {
   "cell_type": "code",
   "execution_count": 34,
   "id": "cf365b4b",
   "metadata": {},
   "outputs": [
    {
     "data": {
      "text/plain": [
       "count    41878.000000\n",
       "mean         4.601559\n",
       "std          0.617338\n",
       "min          1.000000\n",
       "25%          4.300000\n",
       "50%          4.900000\n",
       "75%          5.000000\n",
       "max          5.000000\n",
       "Name: avg_rating_of_driver, dtype: float64"
      ]
     },
     "execution_count": 34,
     "metadata": {},
     "output_type": "execute_result"
    }
   ],
   "source": [
    "df['avg_rating_of_driver'].describe()"
   ]
  },
  {
   "cell_type": "code",
   "execution_count": 35,
   "id": "fd612dc7",
   "metadata": {},
   "outputs": [
    {
     "data": {
      "text/plain": [
       "5.0    20771\n",
       "4.0     4193\n",
       "4.5     2498\n",
       "4.8     2430\n",
       "4.7     1945\n",
       "4.9     1771\n",
       "4.3     1487\n",
       "4.6     1143\n",
       "3.0     1003\n",
       "4.4      829\n",
       "4.2      601\n",
       "3.5      488\n",
       "3.8      428\n",
       "4.1      398\n",
       "3.7      364\n",
       "Name: avg_rating_of_driver, dtype: int64"
      ]
     },
     "execution_count": 35,
     "metadata": {},
     "output_type": "execute_result"
    }
   ],
   "source": [
    "df['avg_rating_of_driver'].value_counts().head(15)"
   ]
  },
  {
   "cell_type": "markdown",
   "id": "0861e612",
   "metadata": {},
   "source": [
    "The average rating of the driver has a negitive skew as most of the ratings are towards higher numbers. So we will use the median to fill in the null values."
   ]
  },
  {
   "cell_type": "code",
   "execution_count": 36,
   "id": "2770bcbe",
   "metadata": {},
   "outputs": [],
   "source": [
    "df['avg_rating_of_driver'] = df['avg_rating_of_driver'].fillna(df['avg_rating_of_driver'].median())"
   ]
  },
  {
   "cell_type": "code",
   "execution_count": 37,
   "id": "a85e24e8",
   "metadata": {},
   "outputs": [
    {
     "data": {
      "text/plain": [
       "count    50000.000000\n",
       "mean         4.650038\n",
       "std          0.575601\n",
       "min          1.000000\n",
       "25%          4.500000\n",
       "50%          4.900000\n",
       "75%          5.000000\n",
       "max          5.000000\n",
       "Name: avg_rating_of_driver, dtype: float64"
      ]
     },
     "execution_count": 37,
     "metadata": {},
     "output_type": "execute_result"
    }
   ],
   "source": [
    "df['avg_rating_of_driver'].describe()"
   ]
  },
  {
   "cell_type": "markdown",
   "id": "a57e3cd2",
   "metadata": {},
   "source": [
    "Our mean went up by .05% after filling in the nan values with the median."
   ]
  },
  {
   "cell_type": "markdown",
   "id": "6f92c36c",
   "metadata": {},
   "source": [
    "### 2.3 Average Rating by Driver"
   ]
  },
  {
   "cell_type": "code",
   "execution_count": 38,
   "id": "21d34d44",
   "metadata": {},
   "outputs": [
    {
     "data": {
      "text/plain": [
       "201"
      ]
     },
     "execution_count": 38,
     "metadata": {},
     "output_type": "execute_result"
    }
   ],
   "source": [
    "df['avg_rating_by_driver'].isnull().sum()"
   ]
  },
  {
   "cell_type": "code",
   "execution_count": 39,
   "id": "60780432",
   "metadata": {},
   "outputs": [
    {
     "data": {
      "text/plain": [
       "count    49799.000000\n",
       "mean         4.778158\n",
       "std          0.446652\n",
       "min          1.000000\n",
       "25%          4.700000\n",
       "50%          5.000000\n",
       "75%          5.000000\n",
       "max          5.000000\n",
       "Name: avg_rating_by_driver, dtype: float64"
      ]
     },
     "execution_count": 39,
     "metadata": {},
     "output_type": "execute_result"
    }
   ],
   "source": [
    "df['avg_rating_by_driver'].describe()"
   ]
  },
  {
   "cell_type": "code",
   "execution_count": 40,
   "id": "0487fb77",
   "metadata": {},
   "outputs": [
    {
     "data": {
      "text/plain": [
       "5.0    28508\n",
       "4.8     4537\n",
       "4.7     3330\n",
       "4.9     3094\n",
       "4.5     2424\n",
       "4.6     2078\n",
       "4.0     1914\n",
       "4.3     1018\n",
       "4.4      860\n",
       "3.0      602\n",
       "4.2      342\n",
       "3.5      199\n",
       "3.7      195\n",
       "1.0      181\n",
       "2.0      126\n",
       "Name: avg_rating_by_driver, dtype: int64"
      ]
     },
     "execution_count": 40,
     "metadata": {},
     "output_type": "execute_result"
    }
   ],
   "source": [
    "df['avg_rating_by_driver'].value_counts().head(15)"
   ]
  },
  {
   "cell_type": "markdown",
   "id": "c209d122",
   "metadata": {},
   "source": [
    "Once again the average rating by the driver has a negitive skew as most of the ratings are towards higher numbers. So we will use the median to fill in the null values."
   ]
  },
  {
   "cell_type": "code",
   "execution_count": 41,
   "id": "62301886",
   "metadata": {},
   "outputs": [],
   "source": [
    "df['avg_rating_by_driver'] = df['avg_rating_by_driver'].fillna(df['avg_rating_by_driver'].median())"
   ]
  },
  {
   "cell_type": "code",
   "execution_count": 42,
   "id": "173e965a",
   "metadata": {},
   "outputs": [
    {
     "data": {
      "text/plain": [
       "count    50000.000000\n",
       "mean         4.779050\n",
       "std          0.445974\n",
       "min          1.000000\n",
       "25%          4.700000\n",
       "50%          5.000000\n",
       "75%          5.000000\n",
       "max          5.000000\n",
       "Name: avg_rating_by_driver, dtype: float64"
      ]
     },
     "execution_count": 42,
     "metadata": {},
     "output_type": "execute_result"
    }
   ],
   "source": [
    "df['avg_rating_by_driver'].describe()"
   ]
  },
  {
   "cell_type": "markdown",
   "id": "92ba2fcb",
   "metadata": {},
   "source": [
    "Here our average rating by the driver went up .001%."
   ]
  },
  {
   "cell_type": "markdown",
   "id": "54d13dbc",
   "metadata": {},
   "source": [
    "### 2.4 Data Statistics"
   ]
  },
  {
   "cell_type": "code",
   "execution_count": 43,
   "id": "13f300ae",
   "metadata": {},
   "outputs": [
    {
     "data": {
      "text/plain": [
       "(50000, 12)"
      ]
     },
     "execution_count": 43,
     "metadata": {},
     "output_type": "execute_result"
    }
   ],
   "source": [
    "df.shape"
   ]
  },
  {
   "cell_type": "code",
   "execution_count": 44,
   "id": "cf21429b",
   "metadata": {},
   "outputs": [
    {
     "data": {
      "text/html": [
       "<div>\n",
       "<style scoped>\n",
       "    .dataframe tbody tr th:only-of-type {\n",
       "        vertical-align: middle;\n",
       "    }\n",
       "\n",
       "    .dataframe tbody tr th {\n",
       "        vertical-align: top;\n",
       "    }\n",
       "\n",
       "    .dataframe thead th {\n",
       "        text-align: right;\n",
       "    }\n",
       "</style>\n",
       "<table border=\"1\" class=\"dataframe\">\n",
       "  <thead>\n",
       "    <tr style=\"text-align: right;\">\n",
       "      <th></th>\n",
       "      <th>trips_in_first_30_days</th>\n",
       "      <th>avg_rating_of_driver</th>\n",
       "      <th>avg_surge</th>\n",
       "      <th>surge_pct</th>\n",
       "      <th>weekday_pct</th>\n",
       "      <th>avg_dist</th>\n",
       "      <th>avg_rating_by_driver</th>\n",
       "    </tr>\n",
       "  </thead>\n",
       "  <tbody>\n",
       "    <tr>\n",
       "      <th>count</th>\n",
       "      <td>50000.000000</td>\n",
       "      <td>50000.000000</td>\n",
       "      <td>50000.000000</td>\n",
       "      <td>50000.000000</td>\n",
       "      <td>50000.000000</td>\n",
       "      <td>50000.000000</td>\n",
       "      <td>50000.000000</td>\n",
       "    </tr>\n",
       "    <tr>\n",
       "      <th>mean</th>\n",
       "      <td>2.278200</td>\n",
       "      <td>4.650038</td>\n",
       "      <td>1.074764</td>\n",
       "      <td>8.849536</td>\n",
       "      <td>60.926084</td>\n",
       "      <td>5.796827</td>\n",
       "      <td>4.779050</td>\n",
       "    </tr>\n",
       "    <tr>\n",
       "      <th>std</th>\n",
       "      <td>3.792684</td>\n",
       "      <td>0.575601</td>\n",
       "      <td>0.222336</td>\n",
       "      <td>19.958811</td>\n",
       "      <td>37.081503</td>\n",
       "      <td>5.707357</td>\n",
       "      <td>0.445974</td>\n",
       "    </tr>\n",
       "    <tr>\n",
       "      <th>min</th>\n",
       "      <td>0.000000</td>\n",
       "      <td>1.000000</td>\n",
       "      <td>1.000000</td>\n",
       "      <td>0.000000</td>\n",
       "      <td>0.000000</td>\n",
       "      <td>0.000000</td>\n",
       "      <td>1.000000</td>\n",
       "    </tr>\n",
       "    <tr>\n",
       "      <th>25%</th>\n",
       "      <td>0.000000</td>\n",
       "      <td>4.500000</td>\n",
       "      <td>1.000000</td>\n",
       "      <td>0.000000</td>\n",
       "      <td>33.300000</td>\n",
       "      <td>2.420000</td>\n",
       "      <td>4.700000</td>\n",
       "    </tr>\n",
       "    <tr>\n",
       "      <th>50%</th>\n",
       "      <td>1.000000</td>\n",
       "      <td>4.900000</td>\n",
       "      <td>1.000000</td>\n",
       "      <td>0.000000</td>\n",
       "      <td>66.700000</td>\n",
       "      <td>3.880000</td>\n",
       "      <td>5.000000</td>\n",
       "    </tr>\n",
       "    <tr>\n",
       "      <th>75%</th>\n",
       "      <td>3.000000</td>\n",
       "      <td>5.000000</td>\n",
       "      <td>1.050000</td>\n",
       "      <td>8.600000</td>\n",
       "      <td>100.000000</td>\n",
       "      <td>6.940000</td>\n",
       "      <td>5.000000</td>\n",
       "    </tr>\n",
       "    <tr>\n",
       "      <th>max</th>\n",
       "      <td>125.000000</td>\n",
       "      <td>5.000000</td>\n",
       "      <td>8.000000</td>\n",
       "      <td>100.000000</td>\n",
       "      <td>100.000000</td>\n",
       "      <td>160.960000</td>\n",
       "      <td>5.000000</td>\n",
       "    </tr>\n",
       "  </tbody>\n",
       "</table>\n",
       "</div>"
      ],
      "text/plain": [
       "       trips_in_first_30_days  avg_rating_of_driver     avg_surge  \\\n",
       "count            50000.000000          50000.000000  50000.000000   \n",
       "mean                 2.278200              4.650038      1.074764   \n",
       "std                  3.792684              0.575601      0.222336   \n",
       "min                  0.000000              1.000000      1.000000   \n",
       "25%                  0.000000              4.500000      1.000000   \n",
       "50%                  1.000000              4.900000      1.000000   \n",
       "75%                  3.000000              5.000000      1.050000   \n",
       "max                125.000000              5.000000      8.000000   \n",
       "\n",
       "          surge_pct   weekday_pct      avg_dist  avg_rating_by_driver  \n",
       "count  50000.000000  50000.000000  50000.000000          50000.000000  \n",
       "mean       8.849536     60.926084      5.796827              4.779050  \n",
       "std       19.958811     37.081503      5.707357              0.445974  \n",
       "min        0.000000      0.000000      0.000000              1.000000  \n",
       "25%        0.000000     33.300000      2.420000              4.700000  \n",
       "50%        0.000000     66.700000      3.880000              5.000000  \n",
       "75%        8.600000    100.000000      6.940000              5.000000  \n",
       "max      100.000000    100.000000    160.960000              5.000000  "
      ]
     },
     "execution_count": 44,
     "metadata": {},
     "output_type": "execute_result"
    }
   ],
   "source": [
    "df.describe()"
   ]
  },
  {
   "cell_type": "markdown",
   "id": "2c9967fe",
   "metadata": {},
   "source": [
    "### 2.5 Change Columns to Date Time"
   ]
  },
  {
   "cell_type": "markdown",
   "id": "2cd672b9",
   "metadata": {},
   "source": [
    "The signup date and last trip date columns are strings. We need to change it to a date time"
   ]
  },
  {
   "cell_type": "code",
   "execution_count": 45,
   "id": "34b6a62b",
   "metadata": {},
   "outputs": [],
   "source": [
    "df['last_trip_date'] = pd.to_datetime(df.last_trip_date)\n",
    "df['signup_date'] = pd.to_datetime(df.signup_date)"
   ]
  },
  {
   "cell_type": "markdown",
   "id": "c7ae656c",
   "metadata": {},
   "source": [
    "Lets check the timeframe on our data:"
   ]
  },
  {
   "cell_type": "code",
   "execution_count": 46,
   "id": "f4d1cf5f",
   "metadata": {},
   "outputs": [
    {
     "data": {
      "text/html": [
       "<div>\n",
       "<style scoped>\n",
       "    .dataframe tbody tr th:only-of-type {\n",
       "        vertical-align: middle;\n",
       "    }\n",
       "\n",
       "    .dataframe tbody tr th {\n",
       "        vertical-align: top;\n",
       "    }\n",
       "\n",
       "    .dataframe thead th {\n",
       "        text-align: right;\n",
       "    }\n",
       "</style>\n",
       "<table border=\"1\" class=\"dataframe\">\n",
       "  <thead>\n",
       "    <tr style=\"text-align: right;\">\n",
       "      <th></th>\n",
       "      <th>signup_date</th>\n",
       "      <th>last_trip_date</th>\n",
       "    </tr>\n",
       "  </thead>\n",
       "  <tbody>\n",
       "    <tr>\n",
       "      <th>count</th>\n",
       "      <td>50000</td>\n",
       "      <td>50000</td>\n",
       "    </tr>\n",
       "    <tr>\n",
       "      <th>mean</th>\n",
       "      <td>2014-01-16 13:04:20.352000</td>\n",
       "      <td>2014-04-19 08:02:04.992000256</td>\n",
       "    </tr>\n",
       "    <tr>\n",
       "      <th>min</th>\n",
       "      <td>2014-01-01 00:00:00</td>\n",
       "      <td>2014-01-01 00:00:00</td>\n",
       "    </tr>\n",
       "    <tr>\n",
       "      <th>25%</th>\n",
       "      <td>2014-01-09 00:00:00</td>\n",
       "      <td>2014-02-14 00:00:00</td>\n",
       "    </tr>\n",
       "    <tr>\n",
       "      <th>50%</th>\n",
       "      <td>2014-01-17 00:00:00</td>\n",
       "      <td>2014-05-08 00:00:00</td>\n",
       "    </tr>\n",
       "    <tr>\n",
       "      <th>75%</th>\n",
       "      <td>2014-01-24 00:00:00</td>\n",
       "      <td>2014-06-18 00:00:00</td>\n",
       "    </tr>\n",
       "    <tr>\n",
       "      <th>max</th>\n",
       "      <td>2014-01-31 00:00:00</td>\n",
       "      <td>2014-07-01 00:00:00</td>\n",
       "    </tr>\n",
       "  </tbody>\n",
       "</table>\n",
       "</div>"
      ],
      "text/plain": [
       "                      signup_date                 last_trip_date\n",
       "count                       50000                          50000\n",
       "mean   2014-01-16 13:04:20.352000  2014-04-19 08:02:04.992000256\n",
       "min           2014-01-01 00:00:00            2014-01-01 00:00:00\n",
       "25%           2014-01-09 00:00:00            2014-02-14 00:00:00\n",
       "50%           2014-01-17 00:00:00            2014-05-08 00:00:00\n",
       "75%           2014-01-24 00:00:00            2014-06-18 00:00:00\n",
       "max           2014-01-31 00:00:00            2014-07-01 00:00:00"
      ]
     },
     "execution_count": 46,
     "metadata": {},
     "output_type": "execute_result"
    }
   ],
   "source": [
    "df[['signup_date', 'last_trip_date' ]].describe(datetime_is_numeric=True)"
   ]
  },
  {
   "cell_type": "markdown",
   "id": "99563b0d",
   "metadata": {},
   "source": [
    "Here we can see that our time frame is January 1st 2014 and the last trip date is July 1st 2014. "
   ]
  },
  {
   "cell_type": "markdown",
   "id": "c99faeeb",
   "metadata": {},
   "source": [
    "### 2.6 Create Y Variable- Riders Retained in June"
   ]
  },
  {
   "cell_type": "markdown",
   "id": "a2f4a725",
   "metadata": {},
   "source": [
    "Lets check how many users were retained. We consider a user retained if they were active in the preceding 30 days."
   ]
  },
  {
   "cell_type": "code",
   "execution_count": 47,
   "id": "24cb7c64",
   "metadata": {},
   "outputs": [
    {
     "data": {
      "text/plain": [
       "0    30.780\n",
       "1    28.216\n",
       "2    14.804\n",
       "3     7.576\n",
       "4     5.124\n",
       "5     3.232\n",
       "6     2.268\n",
       "7     1.638\n",
       "8     1.178\n",
       "9     0.942\n",
       "Name: trips_in_first_30_days, dtype: float64"
      ]
     },
     "execution_count": 47,
     "metadata": {},
     "output_type": "execute_result"
    }
   ],
   "source": [
    "trips30 = df['trips_in_first_30_days'].value_counts(normalize=True)*100\n",
    "trips30.head(10)"
   ]
  },
  {
   "cell_type": "markdown",
   "id": "4f6f6fb3",
   "metadata": {},
   "source": [
    "We had 30.78% that were not retained in the next 30 days. Lets calculate how many that were retained within 30 days."
   ]
  },
  {
   "cell_type": "code",
   "execution_count": 48,
   "id": "bb20dd08",
   "metadata": {},
   "outputs": [
    {
     "data": {
      "text/plain": [
       "0.6921999999999999"
      ]
     },
     "execution_count": 48,
     "metadata": {},
     "output_type": "execute_result"
    }
   ],
   "source": [
    "1-.30780"
   ]
  },
  {
   "cell_type": "markdown",
   "id": "f8c36bb7",
   "metadata": {},
   "source": [
    "**Question 1: Perform any cleaning, exploratory analysis, and/or visualizations to use the provided data for this analysis (a few sentences/plots describing your approach will suffice). What fraction of the observed users were retained?**"
   ]
  },
  {
   "cell_type": "markdown",
   "id": "5f49e1bc",
   "metadata": {},
   "source": [
    "69.219% Users where retained in the last 30 days."
   ]
  },
  {
   "cell_type": "markdown",
   "id": "a75e1de0",
   "metadata": {},
   "source": [
    "Now we need to create our Y variable that we will predict, which is whether or not a user will be active in their 6th month on the system. It will be any rider who got a ride in the month of June."
   ]
  },
  {
   "cell_type": "code",
   "execution_count": 49,
   "id": "9f1c9a4a",
   "metadata": {},
   "outputs": [],
   "source": [
    "df['retained'] = (df.last_trip_date > '2014-05-31')*1"
   ]
  },
  {
   "cell_type": "code",
   "execution_count": 50,
   "id": "cf058f53",
   "metadata": {},
   "outputs": [
    {
     "data": {
      "text/plain": [
       "count    50000.000000\n",
       "mean         0.376080\n",
       "std          0.484405\n",
       "min          0.000000\n",
       "25%          0.000000\n",
       "50%          0.000000\n",
       "75%          1.000000\n",
       "max          1.000000\n",
       "Name: retained, dtype: float64"
      ]
     },
     "execution_count": 50,
     "metadata": {},
     "output_type": "execute_result"
    }
   ],
   "source": [
    "df['retained'].describe()"
   ]
  },
  {
   "cell_type": "code",
   "execution_count": 51,
   "id": "13ff5379",
   "metadata": {},
   "outputs": [
    {
     "data": {
      "text/plain": [
       "0    31196\n",
       "1    18804\n",
       "Name: retained, dtype: int64"
      ]
     },
     "execution_count": 51,
     "metadata": {},
     "output_type": "execute_result"
    }
   ],
   "source": [
    "df.retained.value_counts()"
   ]
  },
  {
   "cell_type": "code",
   "execution_count": 52,
   "id": "feca7acd",
   "metadata": {},
   "outputs": [
    {
     "data": {
      "text/plain": [
       "0.62392"
      ]
     },
     "execution_count": 52,
     "metadata": {},
     "output_type": "execute_result"
    }
   ],
   "source": [
    "31196/50000"
   ]
  },
  {
   "cell_type": "code",
   "execution_count": 53,
   "id": "db349c3e",
   "metadata": {},
   "outputs": [
    {
     "data": {
      "text/html": [
       "<div>\n",
       "<style scoped>\n",
       "    .dataframe tbody tr th:only-of-type {\n",
       "        vertical-align: middle;\n",
       "    }\n",
       "\n",
       "    .dataframe tbody tr th {\n",
       "        vertical-align: top;\n",
       "    }\n",
       "\n",
       "    .dataframe thead th {\n",
       "        text-align: right;\n",
       "    }\n",
       "</style>\n",
       "<table border=\"1\" class=\"dataframe\">\n",
       "  <thead>\n",
       "    <tr style=\"text-align: right;\">\n",
       "      <th></th>\n",
       "      <th>city</th>\n",
       "      <th>trips_in_first_30_days</th>\n",
       "      <th>signup_date</th>\n",
       "      <th>avg_rating_of_driver</th>\n",
       "      <th>avg_surge</th>\n",
       "      <th>last_trip_date</th>\n",
       "      <th>phone</th>\n",
       "      <th>surge_pct</th>\n",
       "      <th>ultimate_black_user</th>\n",
       "      <th>weekday_pct</th>\n",
       "      <th>avg_dist</th>\n",
       "      <th>avg_rating_by_driver</th>\n",
       "      <th>retained</th>\n",
       "    </tr>\n",
       "  </thead>\n",
       "  <tbody>\n",
       "    <tr>\n",
       "      <th>0</th>\n",
       "      <td>King's Landing</td>\n",
       "      <td>4</td>\n",
       "      <td>2014-01-25</td>\n",
       "      <td>4.7</td>\n",
       "      <td>1.10</td>\n",
       "      <td>2014-06-17</td>\n",
       "      <td>iPhone</td>\n",
       "      <td>15.4</td>\n",
       "      <td>True</td>\n",
       "      <td>46.2</td>\n",
       "      <td>3.67</td>\n",
       "      <td>5.0</td>\n",
       "      <td>1</td>\n",
       "    </tr>\n",
       "    <tr>\n",
       "      <th>1</th>\n",
       "      <td>Astapor</td>\n",
       "      <td>0</td>\n",
       "      <td>2014-01-29</td>\n",
       "      <td>5.0</td>\n",
       "      <td>1.00</td>\n",
       "      <td>2014-05-05</td>\n",
       "      <td>Android</td>\n",
       "      <td>0.0</td>\n",
       "      <td>False</td>\n",
       "      <td>50.0</td>\n",
       "      <td>8.26</td>\n",
       "      <td>5.0</td>\n",
       "      <td>0</td>\n",
       "    </tr>\n",
       "    <tr>\n",
       "      <th>2</th>\n",
       "      <td>Astapor</td>\n",
       "      <td>3</td>\n",
       "      <td>2014-01-06</td>\n",
       "      <td>4.3</td>\n",
       "      <td>1.00</td>\n",
       "      <td>2014-01-07</td>\n",
       "      <td>iPhone</td>\n",
       "      <td>0.0</td>\n",
       "      <td>False</td>\n",
       "      <td>100.0</td>\n",
       "      <td>0.77</td>\n",
       "      <td>5.0</td>\n",
       "      <td>0</td>\n",
       "    </tr>\n",
       "    <tr>\n",
       "      <th>3</th>\n",
       "      <td>King's Landing</td>\n",
       "      <td>9</td>\n",
       "      <td>2014-01-10</td>\n",
       "      <td>4.6</td>\n",
       "      <td>1.14</td>\n",
       "      <td>2014-06-29</td>\n",
       "      <td>iPhone</td>\n",
       "      <td>20.0</td>\n",
       "      <td>True</td>\n",
       "      <td>80.0</td>\n",
       "      <td>2.36</td>\n",
       "      <td>4.9</td>\n",
       "      <td>1</td>\n",
       "    </tr>\n",
       "    <tr>\n",
       "      <th>4</th>\n",
       "      <td>Winterfell</td>\n",
       "      <td>14</td>\n",
       "      <td>2014-01-27</td>\n",
       "      <td>4.4</td>\n",
       "      <td>1.19</td>\n",
       "      <td>2014-03-15</td>\n",
       "      <td>Android</td>\n",
       "      <td>11.8</td>\n",
       "      <td>False</td>\n",
       "      <td>82.4</td>\n",
       "      <td>3.13</td>\n",
       "      <td>4.9</td>\n",
       "      <td>0</td>\n",
       "    </tr>\n",
       "  </tbody>\n",
       "</table>\n",
       "</div>"
      ],
      "text/plain": [
       "             city  trips_in_first_30_days signup_date  avg_rating_of_driver  \\\n",
       "0  King's Landing                       4  2014-01-25                   4.7   \n",
       "1         Astapor                       0  2014-01-29                   5.0   \n",
       "2         Astapor                       3  2014-01-06                   4.3   \n",
       "3  King's Landing                       9  2014-01-10                   4.6   \n",
       "4      Winterfell                      14  2014-01-27                   4.4   \n",
       "\n",
       "   avg_surge last_trip_date    phone  surge_pct  ultimate_black_user  \\\n",
       "0       1.10     2014-06-17   iPhone       15.4                 True   \n",
       "1       1.00     2014-05-05  Android        0.0                False   \n",
       "2       1.00     2014-01-07   iPhone        0.0                False   \n",
       "3       1.14     2014-06-29   iPhone       20.0                 True   \n",
       "4       1.19     2014-03-15  Android       11.8                False   \n",
       "\n",
       "   weekday_pct  avg_dist  avg_rating_by_driver  retained  \n",
       "0         46.2      3.67                   5.0         1  \n",
       "1         50.0      8.26                   5.0         0  \n",
       "2        100.0      0.77                   5.0         0  \n",
       "3         80.0      2.36                   4.9         1  \n",
       "4         82.4      3.13                   4.9         0  "
      ]
     },
     "execution_count": 53,
     "metadata": {},
     "output_type": "execute_result"
    }
   ],
   "source": [
    "df.head()"
   ]
  },
  {
   "cell_type": "markdown",
   "id": "63682ed8",
   "metadata": {},
   "source": [
    "## 3. Visualizations"
   ]
  },
  {
   "cell_type": "markdown",
   "id": "144fd996",
   "metadata": {},
   "source": [
    "### 3.1 Heat Map"
   ]
  },
  {
   "cell_type": "code",
   "execution_count": 54,
   "id": "5f665959",
   "metadata": {},
   "outputs": [
    {
     "data": {
      "image/png": "[encoded data removed]",
      "text/plain": [
       "<Figure size 936x720 with 2 Axes>"
      ]
     },
     "metadata": {
      "needs_background": "light"
     },
     "output_type": "display_data"
    }
   ],
   "source": [
    "corrmat= df.corr()\n",
    "f, ax = plt.subplots(figsize= (13,10))\n",
    "hm = sns.heatmap(round(corrmat,2), annot=True, ax=ax, cmap='coolwarm', fmt='.2f', linewidths=.05)\n",
    "f.subplots_adjust(top=.93)\n",
    "t= f.suptitle('Correlations for Ulitmate Data', fontsize=16)"
   ]
  },
  {
   "cell_type": "code",
   "execution_count": 55,
   "id": "29e29b90",
   "metadata": {},
   "outputs": [
    {
     "data": {
      "text/plain": [
       "retained                  1.000000\n",
       "trips_in_first_30_days    0.210463\n",
       "ultimate_black_user       0.205002\n",
       "surge_pct                 0.011797\n",
       "weekday_pct               0.009693\n",
       "avg_surge                -0.003333\n",
       "avg_rating_by_driver     -0.027548\n",
       "avg_rating_of_driver     -0.041082\n",
       "avg_dist                 -0.092780\n",
       "Name: retained, dtype: float64"
      ]
     },
     "execution_count": 55,
     "metadata": {},
     "output_type": "execute_result"
    }
   ],
   "source": [
    "corrmat['retained'].sort_values(ascending=False)"
   ]
  },
  {
   "cell_type": "markdown",
   "id": "475877a5",
   "metadata": {},
   "source": [
    "Trips in the first 30 days and ultimate black user have the highest correlation with our Y variable. So perhaps a ultimate black user is more inclined to be a repeat customer. Lets look at a table of retained and ultimate black users."
   ]
  },
  {
   "cell_type": "markdown",
   "id": "f283f74f",
   "metadata": {},
   "source": [
    "### 3.2 Table of  Ultimate Black Users by Retained or Not"
   ]
  },
  {
   "cell_type": "code",
   "execution_count": 56,
   "id": "7dd92b6f",
   "metadata": {},
   "outputs": [
    {
     "data": {
      "text/html": [
       "<div>\n",
       "<style scoped>\n",
       "    .dataframe tbody tr th:only-of-type {\n",
       "        vertical-align: middle;\n",
       "    }\n",
       "\n",
       "    .dataframe tbody tr th {\n",
       "        vertical-align: top;\n",
       "    }\n",
       "\n",
       "    .dataframe thead th {\n",
       "        text-align: right;\n",
       "    }\n",
       "</style>\n",
       "<table border=\"1\" class=\"dataframe\">\n",
       "  <thead>\n",
       "    <tr style=\"text-align: right;\">\n",
       "      <th></th>\n",
       "      <th>Not Ultimate Black User</th>\n",
       "      <th>Ultimate Black User</th>\n",
       "      <th>Total</th>\n",
       "    </tr>\n",
       "  </thead>\n",
       "  <tbody>\n",
       "    <tr>\n",
       "      <th>Not Retained</th>\n",
       "      <td>21839</td>\n",
       "      <td>9357</td>\n",
       "      <td>31196</td>\n",
       "    </tr>\n",
       "    <tr>\n",
       "      <th>Retained</th>\n",
       "      <td>9307</td>\n",
       "      <td>9497</td>\n",
       "      <td>18804</td>\n",
       "    </tr>\n",
       "    <tr>\n",
       "      <th>Total</th>\n",
       "      <td>31146</td>\n",
       "      <td>18854</td>\n",
       "      <td>50000</td>\n",
       "    </tr>\n",
       "  </tbody>\n",
       "</table>\n",
       "</div>"
      ],
      "text/plain": [
       "              Not Ultimate Black User  Ultimate Black User  Total\n",
       "Not Retained                    21839                 9357  31196\n",
       "Retained                         9307                 9497  18804\n",
       "Total                           31146                18854  50000"
      ]
     },
     "execution_count": 56,
     "metadata": {},
     "output_type": "execute_result"
    }
   ],
   "source": [
    "retained_ubu = pd.crosstab(index=df['retained'],columns=df['ultimate_black_user'], margins=True)   \n",
    "retained_ubu.index= [\"Not Retained\",\"Retained\",\"Total\"]\n",
    "retained_ubu.columns = [\"Not Ultimate Black User\",\"Ultimate Black User\",\"Total\"]\n",
    "retained_ubu"
   ]
  },
  {
   "cell_type": "markdown",
   "id": "3a55ebb1",
   "metadata": {},
   "source": [
    "Looks like it is half and half almost for users who are retained or not and is an ultimate black user and not."
   ]
  },
  {
   "cell_type": "markdown",
   "id": "6c76b0cd",
   "metadata": {},
   "source": [
    "### 3.3 Scatter Plot of Retained and Not Retained vs. Average Distance"
   ]
  },
  {
   "cell_type": "code",
   "execution_count": 57,
   "id": "a9d1f1da",
   "metadata": {},
   "outputs": [
    {
     "data": {
      "image/png": "[encoded data removed]",
      "text/plain": [
       "<Figure size 432x288 with 1 Axes>"
      ]
     },
     "metadata": {
      "needs_background": "light"
     },
     "output_type": "display_data"
    }
   ],
   "source": [
    "plt.scatter(df['avg_dist'], df['retained'])\n",
    "plt.xlabel('Average Distance')\n",
    "plt.ylabel('Not Retained 0             Retained 1')\n",
    "plt.title('Average Distance of Retained and not Retained')\n",
    "plt.show()"
   ]
  },
  {
   "cell_type": "markdown",
   "id": "b74e6d1e",
   "metadata": {},
   "source": [
    "It looks as if more customers who are not retained go a longer distance on average. It is possible that some users only go on one trip that is longer with a few outliers."
   ]
  },
  {
   "cell_type": "markdown",
   "id": "9942c4eb",
   "metadata": {},
   "source": [
    "### 3.4 Scatter Plot of Average Rating of Drivers"
   ]
  },
  {
   "cell_type": "code",
   "execution_count": 58,
   "id": "2469616d",
   "metadata": {},
   "outputs": [
    {
     "data": {
      "text/plain": [
       "Text(0.5, 1.0, 'Average Rating of Drivers')"
      ]
     },
     "execution_count": 58,
     "metadata": {},
     "output_type": "execute_result"
    },
    {
     "data": {
      "image/png": "[encoded data removed]",
      "text/plain": [
       "<Figure size 432x288 with 1 Axes>"
      ]
     },
     "metadata": {
      "needs_background": "light"
     },
     "output_type": "display_data"
    }
   ],
   "source": [
    "ax = df.avg_rating_of_driver.plot(kind='hist', bins=12)\n",
    "ax.set_xlabel('Rating')\n",
    "ax.set_ylabel('Count')\n",
    "ax.set_title('Average Rating of Drivers')"
   ]
  },
  {
   "cell_type": "markdown",
   "id": "63ed2251",
   "metadata": {},
   "source": [
    "This displays our negitively skewed data for average rating of drivers."
   ]
  },
  {
   "cell_type": "markdown",
   "id": "9a544611",
   "metadata": {},
   "source": [
    "### 3.5 Scatter plot of Retained and Not Retained vs. Trips in the First 30 Days"
   ]
  },
  {
   "cell_type": "code",
   "execution_count": 59,
   "id": "b66ec5cb",
   "metadata": {},
   "outputs": [
    {
     "data": {
      "image/png": "[encoded data removed]",
      "text/plain": [
       "<Figure size 432x288 with 1 Axes>"
      ]
     },
     "metadata": {
      "needs_background": "light"
     },
     "output_type": "display_data"
    }
   ],
   "source": [
    "plt.scatter(df['trips_in_first_30_days'], df['retained'])\n",
    "plt.xlabel('Trips in first 30 days of signing up')\n",
    "plt.ylabel('Not Retained 0             Retained 1')\n",
    "plt.title('Retained vs. Not Retained in Trips in First 30 days')\n",
    "plt.show()"
   ]
  },
  {
   "cell_type": "markdown",
   "id": "a5c35d34",
   "metadata": {},
   "source": [
    "It seems as if retained users have more trips in the first 30 days than non-retained customers."
   ]
  },
  {
   "cell_type": "markdown",
   "id": "7de3bbb5",
   "metadata": {},
   "source": [
    "### 3.6 Table of Retained and Not Retained vs. Different Cities"
   ]
  },
  {
   "cell_type": "code",
   "execution_count": 60,
   "id": "243b92d1",
   "metadata": {},
   "outputs": [
    {
     "data": {
      "text/html": [
       "<div>\n",
       "<style scoped>\n",
       "    .dataframe tbody tr th:only-of-type {\n",
       "        vertical-align: middle;\n",
       "    }\n",
       "\n",
       "    .dataframe tbody tr th {\n",
       "        vertical-align: top;\n",
       "    }\n",
       "\n",
       "    .dataframe thead th {\n",
       "        text-align: right;\n",
       "    }\n",
       "</style>\n",
       "<table border=\"1\" class=\"dataframe\">\n",
       "  <thead>\n",
       "    <tr style=\"text-align: right;\">\n",
       "      <th></th>\n",
       "      <th>Astapor</th>\n",
       "      <th>King's Landing</th>\n",
       "      <th>Winterfell</th>\n",
       "      <th>Total</th>\n",
       "    </tr>\n",
       "  </thead>\n",
       "  <tbody>\n",
       "    <tr>\n",
       "      <th>Not Retained</th>\n",
       "      <td>12306</td>\n",
       "      <td>3767</td>\n",
       "      <td>15123</td>\n",
       "      <td>31196</td>\n",
       "    </tr>\n",
       "    <tr>\n",
       "      <th>Retained</th>\n",
       "      <td>4228</td>\n",
       "      <td>6363</td>\n",
       "      <td>8213</td>\n",
       "      <td>18804</td>\n",
       "    </tr>\n",
       "    <tr>\n",
       "      <th>Total</th>\n",
       "      <td>16534</td>\n",
       "      <td>10130</td>\n",
       "      <td>23336</td>\n",
       "      <td>50000</td>\n",
       "    </tr>\n",
       "  </tbody>\n",
       "</table>\n",
       "</div>"
      ],
      "text/plain": [
       "              Astapor  King's Landing  Winterfell  Total\n",
       "Not Retained    12306            3767       15123  31196\n",
       "Retained         4228            6363        8213  18804\n",
       "Total           16534           10130       23336  50000"
      ]
     },
     "execution_count": 60,
     "metadata": {},
     "output_type": "execute_result"
    }
   ],
   "source": [
    "retained_city_users = pd.crosstab(index=df['retained'], columns=df[\"city\"], margins=True)  \n",
    "retained_city_users.columns = ['Astapor',\"King's Landing\",'Winterfell','Total']\n",
    "retained_city_users.index= [\"Not Retained\",\"Retained\",'Total']\n",
    "retained_city_users"
   ]
  },
  {
   "cell_type": "markdown",
   "id": "17f048ec",
   "metadata": {},
   "source": [
    "Here we can see that more customers in Astapor & Winterfell are not retained customers. The company might want to see why and if they can retain more shares of customers in these two cities."
   ]
  },
  {
   "cell_type": "markdown",
   "id": "c5497663",
   "metadata": {},
   "source": [
    "## 4. Predictive Model if User will be Active in the 6th Month"
   ]
  },
  {
   "cell_type": "markdown",
   "id": "41b5cbf4",
   "metadata": {},
   "source": [
    "Import the appropriate packages for our model."
   ]
  },
  {
   "cell_type": "code",
   "execution_count": 119,
   "id": "cf5d0084",
   "metadata": {},
   "outputs": [],
   "source": [
    "from sklearn.metrics import confusion_matrix, classification_report\n",
    "from sklearn.metrics import precision_recall_fscore_support, confusion_matrix\n",
    "from sklearn.pipeline import make_pipeline\n",
    "from sklearn.metrics import roc_curve \n",
    "from sklearn.metrics import roc_auc_score\n",
    "from sklearn.preprocessing import StandardScaler\n",
    "from sklearn.model_selection import train_test_split, cross_val_score, cross_validate, GridSearchCV\n",
    "from sklearn.ensemble import RandomForestClassifier\n",
    "from sklearn.linear_model import LogisticRegression\n",
    "from sklearn.model_selection import GridSearchCV"
   ]
  },
  {
   "cell_type": "markdown",
   "id": "9e165fe4",
   "metadata": {},
   "source": [
    "### 4.1 Get Dummies for Object Columns"
   ]
  },
  {
   "cell_type": "markdown",
   "id": "d816fb2a",
   "metadata": {},
   "source": [
    "Lets get dummy variables for city, phone and ulitmate black user so we can make them numeric in our data visualization and the model. First we will change the two columns that are objects."
   ]
  },
  {
   "cell_type": "code",
   "execution_count": 62,
   "id": "4abd829b",
   "metadata": {},
   "outputs": [],
   "source": [
    "cities_dum = pd.get_dummies(df['city'])\n",
    "phone_dum = pd.get_dummies(df['phone'])"
   ]
  },
  {
   "cell_type": "code",
   "execution_count": 63,
   "id": "f28e1ddf",
   "metadata": {},
   "outputs": [],
   "source": [
    "df = df.join(cities_dum).join(phone_dum)"
   ]
  },
  {
   "cell_type": "code",
   "execution_count": 64,
   "id": "a3312c6d",
   "metadata": {},
   "outputs": [],
   "source": [
    "df['ub_user'] = df['ultimate_black_user'].astype(int) "
   ]
  },
  {
   "cell_type": "code",
   "execution_count": 65,
   "id": "332319d1",
   "metadata": {},
   "outputs": [
    {
     "data": {
      "text/html": [
       "<div>\n",
       "<style scoped>\n",
       "    .dataframe tbody tr th:only-of-type {\n",
       "        vertical-align: middle;\n",
       "    }\n",
       "\n",
       "    .dataframe tbody tr th {\n",
       "        vertical-align: top;\n",
       "    }\n",
       "\n",
       "    .dataframe thead th {\n",
       "        text-align: right;\n",
       "    }\n",
       "</style>\n",
       "<table border=\"1\" class=\"dataframe\">\n",
       "  <thead>\n",
       "    <tr style=\"text-align: right;\">\n",
       "      <th></th>\n",
       "      <th>city</th>\n",
       "      <th>trips_in_first_30_days</th>\n",
       "      <th>signup_date</th>\n",
       "      <th>avg_rating_of_driver</th>\n",
       "      <th>avg_surge</th>\n",
       "      <th>last_trip_date</th>\n",
       "      <th>phone</th>\n",
       "      <th>surge_pct</th>\n",
       "      <th>ultimate_black_user</th>\n",
       "      <th>weekday_pct</th>\n",
       "      <th>avg_dist</th>\n",
       "      <th>avg_rating_by_driver</th>\n",
       "      <th>retained</th>\n",
       "      <th>Astapor</th>\n",
       "      <th>King's Landing</th>\n",
       "      <th>Winterfell</th>\n",
       "      <th>Android</th>\n",
       "      <th>No Phone</th>\n",
       "      <th>iPhone</th>\n",
       "      <th>ub_user</th>\n",
       "    </tr>\n",
       "  </thead>\n",
       "  <tbody>\n",
       "    <tr>\n",
       "      <th>49995</th>\n",
       "      <td>King's Landing</td>\n",
       "      <td>0</td>\n",
       "      <td>2014-01-25</td>\n",
       "      <td>5.0</td>\n",
       "      <td>1.0</td>\n",
       "      <td>2014-06-05</td>\n",
       "      <td>iPhone</td>\n",
       "      <td>0.0</td>\n",
       "      <td>False</td>\n",
       "      <td>100.0</td>\n",
       "      <td>5.63</td>\n",
       "      <td>4.2</td>\n",
       "      <td>1</td>\n",
       "      <td>0</td>\n",
       "      <td>1</td>\n",
       "      <td>0</td>\n",
       "      <td>0</td>\n",
       "      <td>0</td>\n",
       "      <td>1</td>\n",
       "      <td>0</td>\n",
       "    </tr>\n",
       "    <tr>\n",
       "      <th>49996</th>\n",
       "      <td>Astapor</td>\n",
       "      <td>1</td>\n",
       "      <td>2014-01-24</td>\n",
       "      <td>4.9</td>\n",
       "      <td>1.0</td>\n",
       "      <td>2014-01-25</td>\n",
       "      <td>iPhone</td>\n",
       "      <td>0.0</td>\n",
       "      <td>False</td>\n",
       "      <td>0.0</td>\n",
       "      <td>0.00</td>\n",
       "      <td>4.0</td>\n",
       "      <td>0</td>\n",
       "      <td>1</td>\n",
       "      <td>0</td>\n",
       "      <td>0</td>\n",
       "      <td>0</td>\n",
       "      <td>0</td>\n",
       "      <td>1</td>\n",
       "      <td>0</td>\n",
       "    </tr>\n",
       "    <tr>\n",
       "      <th>49997</th>\n",
       "      <td>Winterfell</td>\n",
       "      <td>0</td>\n",
       "      <td>2014-01-31</td>\n",
       "      <td>5.0</td>\n",
       "      <td>1.0</td>\n",
       "      <td>2014-05-22</td>\n",
       "      <td>Android</td>\n",
       "      <td>0.0</td>\n",
       "      <td>True</td>\n",
       "      <td>100.0</td>\n",
       "      <td>3.86</td>\n",
       "      <td>5.0</td>\n",
       "      <td>0</td>\n",
       "      <td>0</td>\n",
       "      <td>0</td>\n",
       "      <td>1</td>\n",
       "      <td>1</td>\n",
       "      <td>0</td>\n",
       "      <td>0</td>\n",
       "      <td>1</td>\n",
       "    </tr>\n",
       "    <tr>\n",
       "      <th>49998</th>\n",
       "      <td>Astapor</td>\n",
       "      <td>2</td>\n",
       "      <td>2014-01-14</td>\n",
       "      <td>3.0</td>\n",
       "      <td>1.0</td>\n",
       "      <td>2014-01-15</td>\n",
       "      <td>iPhone</td>\n",
       "      <td>0.0</td>\n",
       "      <td>False</td>\n",
       "      <td>100.0</td>\n",
       "      <td>4.58</td>\n",
       "      <td>3.5</td>\n",
       "      <td>0</td>\n",
       "      <td>1</td>\n",
       "      <td>0</td>\n",
       "      <td>0</td>\n",
       "      <td>0</td>\n",
       "      <td>0</td>\n",
       "      <td>1</td>\n",
       "      <td>0</td>\n",
       "    </tr>\n",
       "    <tr>\n",
       "      <th>49999</th>\n",
       "      <td>Astapor</td>\n",
       "      <td>0</td>\n",
       "      <td>2014-01-18</td>\n",
       "      <td>4.9</td>\n",
       "      <td>1.0</td>\n",
       "      <td>2014-04-20</td>\n",
       "      <td>Android</td>\n",
       "      <td>0.0</td>\n",
       "      <td>False</td>\n",
       "      <td>0.0</td>\n",
       "      <td>3.49</td>\n",
       "      <td>5.0</td>\n",
       "      <td>0</td>\n",
       "      <td>1</td>\n",
       "      <td>0</td>\n",
       "      <td>0</td>\n",
       "      <td>1</td>\n",
       "      <td>0</td>\n",
       "      <td>0</td>\n",
       "      <td>0</td>\n",
       "    </tr>\n",
       "  </tbody>\n",
       "</table>\n",
       "</div>"
      ],
      "text/plain": [
       "                 city  trips_in_first_30_days signup_date  \\\n",
       "49995  King's Landing                       0  2014-01-25   \n",
       "49996         Astapor                       1  2014-01-24   \n",
       "49997      Winterfell                       0  2014-01-31   \n",
       "49998         Astapor                       2  2014-01-14   \n",
       "49999         Astapor                       0  2014-01-18   \n",
       "\n",
       "       avg_rating_of_driver  avg_surge last_trip_date    phone  surge_pct  \\\n",
       "49995                   5.0        1.0     2014-06-05   iPhone        0.0   \n",
       "49996                   4.9        1.0     2014-01-25   iPhone        0.0   \n",
       "49997                   5.0        1.0     2014-05-22  Android        0.0   \n",
       "49998                   3.0        1.0     2014-01-15   iPhone        0.0   \n",
       "49999                   4.9        1.0     2014-04-20  Android        0.0   \n",
       "\n",
       "       ultimate_black_user  weekday_pct  avg_dist  avg_rating_by_driver  \\\n",
       "49995                False        100.0      5.63                   4.2   \n",
       "49996                False          0.0      0.00                   4.0   \n",
       "49997                 True        100.0      3.86                   5.0   \n",
       "49998                False        100.0      4.58                   3.5   \n",
       "49999                False          0.0      3.49                   5.0   \n",
       "\n",
       "       retained  Astapor  King's Landing  Winterfell  Android  No Phone  \\\n",
       "49995         1        0               1           0        0         0   \n",
       "49996         0        1               0           0        0         0   \n",
       "49997         0        0               0           1        1         0   \n",
       "49998         0        1               0           0        0         0   \n",
       "49999         0        1               0           0        1         0   \n",
       "\n",
       "       iPhone  ub_user  \n",
       "49995       1        0  \n",
       "49996       1        0  \n",
       "49997       0        1  \n",
       "49998       1        0  \n",
       "49999       0        0  "
      ]
     },
     "execution_count": 65,
     "metadata": {},
     "output_type": "execute_result"
    }
   ],
   "source": [
    "df.tail()"
   ]
  },
  {
   "cell_type": "markdown",
   "id": "3bbacf34",
   "metadata": {},
   "source": [
    "### 4.2 Drop Non Numeric Columns"
   ]
  },
  {
   "cell_type": "markdown",
   "id": "c066bb1f",
   "metadata": {},
   "source": [
    "Lets drop the columns with no numeric values since we created a new dummy variable for each of these columns. We need to do this for the model and visualization."
   ]
  },
  {
   "cell_type": "code",
   "execution_count": 66,
   "id": "99f5e49f",
   "metadata": {},
   "outputs": [],
   "source": [
    "df = df.drop(['city', 'phone', 'ultimate_black_user'],axis=1)"
   ]
  },
  {
   "cell_type": "code",
   "execution_count": 67,
   "id": "3b942d76",
   "metadata": {},
   "outputs": [
    {
     "data": {
      "text/html": [
       "<div>\n",
       "<style scoped>\n",
       "    .dataframe tbody tr th:only-of-type {\n",
       "        vertical-align: middle;\n",
       "    }\n",
       "\n",
       "    .dataframe tbody tr th {\n",
       "        vertical-align: top;\n",
       "    }\n",
       "\n",
       "    .dataframe thead th {\n",
       "        text-align: right;\n",
       "    }\n",
       "</style>\n",
       "<table border=\"1\" class=\"dataframe\">\n",
       "  <thead>\n",
       "    <tr style=\"text-align: right;\">\n",
       "      <th></th>\n",
       "      <th>trips_in_first_30_days</th>\n",
       "      <th>signup_date</th>\n",
       "      <th>avg_rating_of_driver</th>\n",
       "      <th>avg_surge</th>\n",
       "      <th>last_trip_date</th>\n",
       "      <th>surge_pct</th>\n",
       "      <th>weekday_pct</th>\n",
       "      <th>avg_dist</th>\n",
       "      <th>avg_rating_by_driver</th>\n",
       "      <th>retained</th>\n",
       "      <th>Astapor</th>\n",
       "      <th>King's Landing</th>\n",
       "      <th>Winterfell</th>\n",
       "      <th>Android</th>\n",
       "      <th>No Phone</th>\n",
       "      <th>iPhone</th>\n",
       "      <th>ub_user</th>\n",
       "    </tr>\n",
       "  </thead>\n",
       "  <tbody>\n",
       "    <tr>\n",
       "      <th>0</th>\n",
       "      <td>4</td>\n",
       "      <td>2014-01-25</td>\n",
       "      <td>4.7</td>\n",
       "      <td>1.10</td>\n",
       "      <td>2014-06-17</td>\n",
       "      <td>15.4</td>\n",
       "      <td>46.2</td>\n",
       "      <td>3.67</td>\n",
       "      <td>5.0</td>\n",
       "      <td>1</td>\n",
       "      <td>0</td>\n",
       "      <td>1</td>\n",
       "      <td>0</td>\n",
       "      <td>0</td>\n",
       "      <td>0</td>\n",
       "      <td>1</td>\n",
       "      <td>1</td>\n",
       "    </tr>\n",
       "    <tr>\n",
       "      <th>1</th>\n",
       "      <td>0</td>\n",
       "      <td>2014-01-29</td>\n",
       "      <td>5.0</td>\n",
       "      <td>1.00</td>\n",
       "      <td>2014-05-05</td>\n",
       "      <td>0.0</td>\n",
       "      <td>50.0</td>\n",
       "      <td>8.26</td>\n",
       "      <td>5.0</td>\n",
       "      <td>0</td>\n",
       "      <td>1</td>\n",
       "      <td>0</td>\n",
       "      <td>0</td>\n",
       "      <td>1</td>\n",
       "      <td>0</td>\n",
       "      <td>0</td>\n",
       "      <td>0</td>\n",
       "    </tr>\n",
       "    <tr>\n",
       "      <th>2</th>\n",
       "      <td>3</td>\n",
       "      <td>2014-01-06</td>\n",
       "      <td>4.3</td>\n",
       "      <td>1.00</td>\n",
       "      <td>2014-01-07</td>\n",
       "      <td>0.0</td>\n",
       "      <td>100.0</td>\n",
       "      <td>0.77</td>\n",
       "      <td>5.0</td>\n",
       "      <td>0</td>\n",
       "      <td>1</td>\n",
       "      <td>0</td>\n",
       "      <td>0</td>\n",
       "      <td>0</td>\n",
       "      <td>0</td>\n",
       "      <td>1</td>\n",
       "      <td>0</td>\n",
       "    </tr>\n",
       "    <tr>\n",
       "      <th>3</th>\n",
       "      <td>9</td>\n",
       "      <td>2014-01-10</td>\n",
       "      <td>4.6</td>\n",
       "      <td>1.14</td>\n",
       "      <td>2014-06-29</td>\n",
       "      <td>20.0</td>\n",
       "      <td>80.0</td>\n",
       "      <td>2.36</td>\n",
       "      <td>4.9</td>\n",
       "      <td>1</td>\n",
       "      <td>0</td>\n",
       "      <td>1</td>\n",
       "      <td>0</td>\n",
       "      <td>0</td>\n",
       "      <td>0</td>\n",
       "      <td>1</td>\n",
       "      <td>1</td>\n",
       "    </tr>\n",
       "    <tr>\n",
       "      <th>4</th>\n",
       "      <td>14</td>\n",
       "      <td>2014-01-27</td>\n",
       "      <td>4.4</td>\n",
       "      <td>1.19</td>\n",
       "      <td>2014-03-15</td>\n",
       "      <td>11.8</td>\n",
       "      <td>82.4</td>\n",
       "      <td>3.13</td>\n",
       "      <td>4.9</td>\n",
       "      <td>0</td>\n",
       "      <td>0</td>\n",
       "      <td>0</td>\n",
       "      <td>1</td>\n",
       "      <td>1</td>\n",
       "      <td>0</td>\n",
       "      <td>0</td>\n",
       "      <td>0</td>\n",
       "    </tr>\n",
       "  </tbody>\n",
       "</table>\n",
       "</div>"
      ],
      "text/plain": [
       "   trips_in_first_30_days signup_date  avg_rating_of_driver  avg_surge  \\\n",
       "0                       4  2014-01-25                   4.7       1.10   \n",
       "1                       0  2014-01-29                   5.0       1.00   \n",
       "2                       3  2014-01-06                   4.3       1.00   \n",
       "3                       9  2014-01-10                   4.6       1.14   \n",
       "4                      14  2014-01-27                   4.4       1.19   \n",
       "\n",
       "  last_trip_date  surge_pct  weekday_pct  avg_dist  avg_rating_by_driver  \\\n",
       "0     2014-06-17       15.4         46.2      3.67                   5.0   \n",
       "1     2014-05-05        0.0         50.0      8.26                   5.0   \n",
       "2     2014-01-07        0.0        100.0      0.77                   5.0   \n",
       "3     2014-06-29       20.0         80.0      2.36                   4.9   \n",
       "4     2014-03-15       11.8         82.4      3.13                   4.9   \n",
       "\n",
       "   retained  Astapor  King's Landing  Winterfell  Android  No Phone  iPhone  \\\n",
       "0         1        0               1           0        0         0       1   \n",
       "1         0        1               0           0        1         0       0   \n",
       "2         0        1               0           0        0         0       1   \n",
       "3         1        0               1           0        0         0       1   \n",
       "4         0        0               0           1        1         0       0   \n",
       "\n",
       "   ub_user  \n",
       "0        1  \n",
       "1        0  \n",
       "2        0  \n",
       "3        1  \n",
       "4        0  "
      ]
     },
     "execution_count": 67,
     "metadata": {},
     "output_type": "execute_result"
    }
   ],
   "source": [
    "df.head()"
   ]
  },
  {
   "cell_type": "code",
   "execution_count": 68,
   "id": "d1225854",
   "metadata": {},
   "outputs": [
    {
     "name": "stdout",
     "output_type": "stream",
     "text": [
      "<class 'pandas.core.frame.DataFrame'>\n",
      "RangeIndex: 50000 entries, 0 to 49999\n",
      "Data columns (total 17 columns):\n",
      " #   Column                  Non-Null Count  Dtype         \n",
      "---  ------                  --------------  -----         \n",
      " 0   trips_in_first_30_days  50000 non-null  int64         \n",
      " 1   signup_date             50000 non-null  datetime64[ns]\n",
      " 2   avg_rating_of_driver    50000 non-null  float64       \n",
      " 3   avg_surge               50000 non-null  float64       \n",
      " 4   last_trip_date          50000 non-null  datetime64[ns]\n",
      " 5   surge_pct               50000 non-null  float64       \n",
      " 6   weekday_pct             50000 non-null  float64       \n",
      " 7   avg_dist                50000 non-null  float64       \n",
      " 8   avg_rating_by_driver    50000 non-null  float64       \n",
      " 9   retained                50000 non-null  int32         \n",
      " 10  Astapor                 50000 non-null  uint8         \n",
      " 11  King's Landing          50000 non-null  uint8         \n",
      " 12  Winterfell              50000 non-null  uint8         \n",
      " 13  Android                 50000 non-null  uint8         \n",
      " 14  No Phone                50000 non-null  uint8         \n",
      " 15  iPhone                  50000 non-null  uint8         \n",
      " 16  ub_user                 50000 non-null  int32         \n",
      "dtypes: datetime64[ns](2), float64(6), int32(2), int64(1), uint8(6)\n",
      "memory usage: 4.1 MB\n"
     ]
    }
   ],
   "source": [
    "df.info()"
   ]
  },
  {
   "cell_type": "markdown",
   "id": "23f7e0e6",
   "metadata": {},
   "source": [
    "### 4.3 Split the X and Y Variables in a Train Test Split"
   ]
  },
  {
   "cell_type": "markdown",
   "id": "1b310c91",
   "metadata": {},
   "source": [
    "Now we need to split the variable columns. The Y will be our predicted value of if the rider is retained, (1) or not retained, (0). The X will be all the other variables besides the date time columns since we can not use a model on time."
   ]
  },
  {
   "cell_type": "code",
   "execution_count": 101,
   "id": "35cf223a",
   "metadata": {},
   "outputs": [],
   "source": [
    "y = df['retained']\n",
    "X = df[['trips_in_first_30_days', 'avg_rating_of_driver', 'avg_surge', \n",
    "        'surge_pct', 'weekday_pct', 'avg_dist', 'avg_rating_by_driver',\n",
    "        'Astapor', \"King's Landing\", \"Winterfell\", \"Android\", \"No Phone\", \"iPhone\", \"ub_user\"]]"
   ]
  },
  {
   "cell_type": "code",
   "execution_count": 102,
   "id": "ff69c24e",
   "metadata": {},
   "outputs": [],
   "source": [
    "X_train, X_test, y_train, y_test = train_test_split(X, y, test_size = 0.3, random_state=42)"
   ]
  },
  {
   "cell_type": "markdown",
   "id": "796d846a",
   "metadata": {},
   "source": [
    "### 4.4 Logistic Regression Model"
   ]
  },
  {
   "cell_type": "markdown",
   "id": "3305fc14",
   "metadata": {},
   "source": [
    "First lets try Logistic Regression for our classification problem."
   ]
  },
  {
   "cell_type": "code",
   "execution_count": 135,
   "id": "37ce2434",
   "metadata": {},
   "outputs": [],
   "source": [
    "lr = LogisticRegression(max_iter=1000)\n",
    "lr.fit(X_train,y_train)\n",
    "\n",
    "y_pred = lr.predict(X_test)"
   ]
  },
  {
   "cell_type": "code",
   "execution_count": 136,
   "id": "46b5ff71",
   "metadata": {},
   "outputs": [
    {
     "data": {
      "text/plain": [
       "{'fit_time': array([0.6956141 , 1.26427031, 0.91147876, 1.1313448 , 0.94845915,\n",
       "        1.08738708, 0.70559287, 1.00442362, 0.96444273, 1.10935712]),\n",
       " 'score_time': array([0.0039978 , 0.00299788, 0.00299644, 0.00399852, 0.00399399,\n",
       "        0.00299668, 0.00299811, 0.00199771, 0.00300217, 0.00399876]),\n",
       " 'test_score': array([0.73342857, 0.72542857, 0.72342857, 0.71371429, 0.72428571,\n",
       "        0.71114286, 0.72114286, 0.72171429, 0.71285714, 0.708     ])}"
      ]
     },
     "execution_count": 136,
     "metadata": {},
     "output_type": "execute_result"
    }
   ],
   "source": [
    "cv_results_lr = cross_validate(lr, X_train, y_train, cv=10)\n",
    "cv_results_lr"
   ]
  },
  {
   "cell_type": "code",
   "execution_count": 137,
   "id": "983140f0",
   "metadata": {},
   "outputs": [
    {
     "data": {
      "text/plain": [
       "array([0.73342857, 0.72542857, 0.72342857, 0.71371429, 0.72428571,\n",
       "       0.71114286, 0.72114286, 0.72171429, 0.71285714, 0.708     ])"
      ]
     },
     "execution_count": 137,
     "metadata": {},
     "output_type": "execute_result"
    }
   ],
   "source": [
    "cv_scores_lr = cv_results_lr['test_score']\n",
    "cv_scores_lr"
   ]
  },
  {
   "cell_type": "code",
   "execution_count": 169,
   "id": "22d8d029",
   "metadata": {},
   "outputs": [],
   "source": [
    "param_grid = {'C': [0.001, 0.01, 0.1, 1, 10, 100, 1000] }"
   ]
  },
  {
   "cell_type": "code",
   "execution_count": 170,
   "id": "d0f3e994",
   "metadata": {},
   "outputs": [],
   "source": [
    "lr_grid_cv = GridSearchCV(lr, param_grid, refit = True, verbose = 3,n_jobs=-1) "
   ]
  },
  {
   "cell_type": "code",
   "execution_count": 171,
   "id": "6ba28a9c",
   "metadata": {},
   "outputs": [
    {
     "name": "stdout",
     "output_type": "stream",
     "text": [
      "Fitting 5 folds for each of 7 candidates, totalling 35 fits\n"
     ]
    },
    {
     "data": {
      "text/plain": [
       "array([0.73428571, 0.72628571, 0.72371429, 0.71571429, 0.72571429,\n",
       "       0.71057143, 0.72257143, 0.724     , 0.712     , 0.70657143])"
      ]
     },
     "execution_count": 171,
     "metadata": {},
     "output_type": "execute_result"
    }
   ],
   "source": [
    "lr_grid_cv.fit(X_train, y_train)\n",
    "lr_best_cv_results = cross_validate(lr_grid_cv.best_estimator_, X_train, y_train, cv=10)\n",
    "lr_best_scores = lr_best_cv_results['test_score']\n",
    "lr_best_scores"
   ]
  },
  {
   "cell_type": "code",
   "execution_count": 172,
   "id": "a8759c70",
   "metadata": {},
   "outputs": [
    {
     "data": {
      "text/plain": [
       "(0.7847142857142857, 0.005747404028013389)"
      ]
     },
     "execution_count": 172,
     "metadata": {},
     "output_type": "execute_result"
    }
   ],
   "source": [
    "np.mean(rf_best_scores), np.std(rf_best_scores)"
   ]
  },
  {
   "cell_type": "markdown",
   "id": "7d0ff959",
   "metadata": {},
   "source": [
    "The average of their cross validation grid search for logistic regression was .7847."
   ]
  },
  {
   "cell_type": "code",
   "execution_count": 133,
   "id": "9196e567",
   "metadata": {},
   "outputs": [
    {
     "name": "stdout",
     "output_type": "stream",
     "text": [
      "[[7951 1428]\n",
      " [2803 2818]]\n",
      "              precision    recall  f1-score   support\n",
      "\n",
      "           0       0.74      0.85      0.79      9379\n",
      "           1       0.66      0.50      0.57      5621\n",
      "\n",
      "    accuracy                           0.72     15000\n",
      "   macro avg       0.70      0.67      0.68     15000\n",
      "weighted avg       0.71      0.72      0.71     15000\n",
      "\n"
     ]
    }
   ],
   "source": [
    "print(confusion_matrix(y_test, y_pred))\n",
    "print(classification_report(y_test, y_pred))"
   ]
  },
  {
   "cell_type": "markdown",
   "id": "5249affc",
   "metadata": {},
   "source": [
    "The test data was 15,000 rows. The recall of predicting if it was not a retained rider was the highest score in the classification report of 85%. The numbers are ok for this model but another type of model could be better. Now lets look at the ROC Curve:"
   ]
  },
  {
   "cell_type": "code",
   "execution_count": 104,
   "id": "bd4e2ee7",
   "metadata": {},
   "outputs": [
    {
     "data": {
      "image/png": "[encoded data removed]",
      "text/plain": [
       "<Figure size 432x288 with 1 Axes>"
      ]
     },
     "metadata": {
      "needs_background": "light"
     },
     "output_type": "display_data"
    }
   ],
   "source": [
    "y_p_p = lr.predict_proba(X_test)[:,1]\n",
    "\n",
    "fpr, tpr, thresholds = roc_curve(y_test, y_p_p)\n",
    "\n",
    "plt.plot([0, 1], [0, 1], 'k--')\n",
    "plt.plot(fpr, tpr)\n",
    "plt.title('ROC Curve of Predicting Retained Riders for LR')\n",
    "plt.xlabel('False Positive Rate')\n",
    "plt.ylabel('True Positive Rate')\n",
    "\n",
    "plt.show()"
   ]
  },
  {
   "cell_type": "code",
   "execution_count": 121,
   "id": "9b52d4e0",
   "metadata": {},
   "outputs": [
    {
     "name": "stdout",
     "output_type": "stream",
     "text": [
      "0.7613556340850047\n"
     ]
    }
   ],
   "source": [
    "y_pred_proba = lr.predict_proba(X_test)[::,1]\n",
    "auc = roc_auc_score(y_test, y_pred_proba)\n",
    "\n",
    "print(auc)"
   ]
  },
  {
   "cell_type": "code",
   "execution_count": 128,
   "id": "a0ec968b",
   "metadata": {},
   "outputs": [
    {
     "name": "stdout",
     "output_type": "stream",
     "text": [
      "[0.76473213 0.75773144 0.75282383 0.76170934 0.76884502]\n",
      "0.7611683526415408\n"
     ]
    }
   ],
   "source": [
    "cv_auc_lr = cross_val_score(lr, X, y, cv = 5,scoring = 'roc_auc')\n",
    "\n",
    "print(cv_auc_lr)\n",
    "print(cv_auc_lr.mean())"
   ]
  },
  {
   "cell_type": "markdown",
   "id": "0d59effc",
   "metadata": {},
   "source": [
    "The AUC score and average is fair at .761. The logistic classification model is doing a fair job of predicting if the rider is retained or not but could be improved upon."
   ]
  },
  {
   "cell_type": "markdown",
   "id": "7f8f24cc",
   "metadata": {},
   "source": [
    "### 4.5 Random Forest Classifier Model"
   ]
  },
  {
   "cell_type": "markdown",
   "id": "c90d69f6",
   "metadata": {},
   "source": [
    "For our last model we will try the powerful random forest classifier model."
   ]
  },
  {
   "cell_type": "code",
   "execution_count": 74,
   "id": "1253f615",
   "metadata": {},
   "outputs": [],
   "source": [
    "rf_pipeline=make_pipeline(\n",
    "    StandardScaler(), \n",
    "    RandomForestClassifier(n_estimators = 100,\n",
    "                           random_state = 42,\n",
    "                           min_samples_split = 10,\n",
    "                           bootstrap = True))"
   ]
  },
  {
   "cell_type": "code",
   "execution_count": 75,
   "id": "839269e9",
   "metadata": {},
   "outputs": [
    {
     "data": {
      "text/plain": [
       "Pipeline(steps=[('standardscaler', StandardScaler()),\n",
       "                ('randomforestclassifier',\n",
       "                 RandomForestClassifier(min_samples_split=10,\n",
       "                                        random_state=42))])"
      ]
     },
     "execution_count": 75,
     "metadata": {},
     "output_type": "execute_result"
    }
   ],
   "source": [
    "rf_pipeline.fit(X_train, y_train)"
   ]
  },
  {
   "cell_type": "code",
   "execution_count": 76,
   "id": "2836856c",
   "metadata": {},
   "outputs": [],
   "source": [
    "y_tr_pred_rf = rf_pipeline.predict(X_train)\n",
    "y_te_pred_rf = rf_pipeline.predict(X_test)"
   ]
  },
  {
   "cell_type": "code",
   "execution_count": 77,
   "id": "39a81815",
   "metadata": {},
   "outputs": [
    {
     "data": {
      "text/plain": [
       "{'fit_time': array([3.26212931, 3.24112916, 3.53995681, 3.25711894, 3.30409265,\n",
       "        4.0226779 , 3.23911142, 4.04169106, 3.7598474 , 3.5959065 ]),\n",
       " 'score_time': array([0.11893129, 0.11693215, 0.11593318, 0.11893177, 0.11693549,\n",
       "        0.1189146 , 0.1179328 , 0.11993098, 0.11793137, 0.11794996]),\n",
       " 'test_score': array([0.784     , 0.78257143, 0.77314286, 0.782     , 0.784     ,\n",
       "        0.778     , 0.78542857, 0.76485714, 0.76885714, 0.77914286])}"
      ]
     },
     "execution_count": 77,
     "metadata": {},
     "output_type": "execute_result"
    }
   ],
   "source": [
    "cv_results_rf = cross_validate(rf_pipeline, X_train, y_train, cv=10)\n",
    "cv_results_rf"
   ]
  },
  {
   "cell_type": "code",
   "execution_count": 79,
   "id": "c94dfe76",
   "metadata": {},
   "outputs": [
    {
     "data": {
      "text/plain": [
       "array([0.784     , 0.78257143, 0.77314286, 0.782     , 0.784     ,\n",
       "       0.778     , 0.78542857, 0.76485714, 0.76885714, 0.77914286])"
      ]
     },
     "execution_count": 79,
     "metadata": {},
     "output_type": "execute_result"
    }
   ],
   "source": [
    "cv_scores_rf = cv_results_rf['test_score']\n",
    "cv_scores_rf"
   ]
  },
  {
   "cell_type": "code",
   "execution_count": 80,
   "id": "2a1f18a8",
   "metadata": {},
   "outputs": [],
   "source": [
    "param_grid = {'n_estimators':[100, 200, 500, 1000], 'max_depth':[10, 50, 100]}"
   ]
  },
  {
   "cell_type": "code",
   "execution_count": 82,
   "id": "5f9a4b8e",
   "metadata": {},
   "outputs": [],
   "source": [
    "rf_grid_cv = GridSearchCV(RandomForestClassifier(), param_grid, refit = True, verbose = 3,n_jobs=-1) "
   ]
  },
  {
   "cell_type": "code",
   "execution_count": 85,
   "id": "60b24cf0",
   "metadata": {},
   "outputs": [
    {
     "name": "stdout",
     "output_type": "stream",
     "text": [
      "Fitting 5 folds for each of 12 candidates, totalling 60 fits\n"
     ]
    },
    {
     "data": {
      "text/plain": [
       "array([0.78657143, 0.79542857, 0.78314286, 0.78457143, 0.78742857,\n",
       "       0.77971429, 0.79114286, 0.77371429, 0.78457143, 0.78085714])"
      ]
     },
     "execution_count": 85,
     "metadata": {},
     "output_type": "execute_result"
    }
   ],
   "source": [
    "rf_grid_cv.fit(X_train, y_train)\n",
    "rf_best_cv_results = cross_validate(rf_grid_cv.best_estimator_, X_train, y_train, cv=10)\n",
    "rf_best_scores = rf_best_cv_results['test_score']\n",
    "rf_best_scores"
   ]
  },
  {
   "cell_type": "code",
   "execution_count": 86,
   "id": "7b0f54ee",
   "metadata": {},
   "outputs": [
    {
     "data": {
      "text/plain": [
       "(0.7847142857142857, 0.005747404028013389)"
      ]
     },
     "execution_count": 86,
     "metadata": {},
     "output_type": "execute_result"
    }
   ],
   "source": [
    "np.mean(rf_best_scores), np.std(rf_best_scores)"
   ]
  },
  {
   "cell_type": "markdown",
   "id": "b3e413eb",
   "metadata": {},
   "source": [
    "The mean of the Random Forest Grid Search cross validation is a .7847. Ran a grid search just be sure that this model is the best. This a little higher than the logistic regression."
   ]
  },
  {
   "cell_type": "code",
   "execution_count": 111,
   "id": "8215678a",
   "metadata": {},
   "outputs": [
    {
     "name": "stdout",
     "output_type": "stream",
     "text": [
      "[[7880 1499]\n",
      " [1907 3714]]\n",
      "              precision    recall  f1-score   support\n",
      "\n",
      "           0       0.81      0.84      0.82      9379\n",
      "           1       0.71      0.66      0.69      5621\n",
      "\n",
      "    accuracy                           0.77     15000\n",
      "   macro avg       0.76      0.75      0.75     15000\n",
      "weighted avg       0.77      0.77      0.77     15000\n",
      "\n"
     ]
    }
   ],
   "source": [
    "rf_pipeline.fit(X_train,y_train)\n",
    "\n",
    "y_pred = rf_pipeline.predict(X_test)\n",
    "\n",
    "\n",
    "print(confusion_matrix(y_test, y_pred))\n",
    "print(classification_report(y_test, y_pred))"
   ]
  },
  {
   "cell_type": "markdown",
   "id": "c3dcf8a3",
   "metadata": {},
   "source": [
    "The recall, precision and f1 scores are all higher than the Logistic Regression Model that we ran earlier. I would recommend using this model for predicting if a rider is retained."
   ]
  },
  {
   "cell_type": "code",
   "execution_count": 88,
   "id": "e031e5bf",
   "metadata": {},
   "outputs": [
    {
     "data": {
      "image/png": "[encoded data removed]",
      "text/plain": [
       "<Figure size 432x288 with 1 Axes>"
      ]
     },
     "metadata": {
      "needs_background": "light"
     },
     "output_type": "display_data"
    }
   ],
   "source": [
    "y_p_p = rf_pipeline.predict_proba(X_test)[:,1]\n",
    "\n",
    "fpr, tpr, thresholds = roc_curve(y_test, y_p_p)\n",
    "\n",
    "plt.plot([0, 1], [0, 1], 'k--')\n",
    "plt.plot(fpr, tpr)\n",
    "plt.title('ROC Curve of Predicting Retained Riders RF Model')\n",
    "plt.xlabel('False Positive Rate')\n",
    "plt.ylabel('True Positive Rate')\n",
    "\n",
    "plt.show()"
   ]
  },
  {
   "cell_type": "code",
   "execution_count": 122,
   "id": "8c92f2b4",
   "metadata": {},
   "outputs": [
    {
     "name": "stdout",
     "output_type": "stream",
     "text": [
      "0.8365366411226662\n"
     ]
    }
   ],
   "source": [
    "y_pred_proba =rf_pipeline.predict_proba(X_test)[::,1]\n",
    "auc = roc_auc_score(y_test, y_pred_proba)\n",
    "\n",
    "print(auc)"
   ]
  },
  {
   "cell_type": "code",
   "execution_count": 127,
   "id": "3e47e68b",
   "metadata": {},
   "outputs": [
    {
     "name": "stdout",
     "output_type": "stream",
     "text": [
      "[0.84060058 0.83595976 0.83694964 0.84265655 0.84486717]\n",
      "0.840206739832032\n"
     ]
    }
   ],
   "source": [
    "cv_auc = cross_val_score(rf_pipeline, X, y, cv = 5,scoring = 'roc_auc')\n",
    "\n",
    "print(cv_auc)\n",
    "print(cv_auc.mean())"
   ]
  },
  {
   "cell_type": "markdown",
   "id": "a60a42a4",
   "metadata": {},
   "source": [
    "The area under the curve for Random Forest is higher than Logistic Regression at .8365. When we do a cross validation the average of the five is .84. The RF model is doing a good job of deciding if the rider is retained or not."
   ]
  },
  {
   "cell_type": "markdown",
   "id": "fe2446b8",
   "metadata": {},
   "source": [
    "**Question 2: Build a predictive model to help Ultimate determine whether or not a user will be active in their 6th month on the system. Discuss why you chose your approach, what alternatives you considered, and any concerns you have. How valid is your model? Include any key indicators of model performance.**"
   ]
  },
  {
   "cell_type": "markdown",
   "id": "a047d790",
   "metadata": {},
   "source": [
    "Random Forest Model is the classifier I suggest Ultimate use going forward. Their precision, recall, auc and cross validation scores were all higher than logistic regression. RF is predicting who is a retained rider or not and has less false positives, and true negatives. I would also look into multiple other models just to see if they could predict if a rider was retained or not better. "
   ]
  },
  {
   "cell_type": "markdown",
   "id": "a311e2c5",
   "metadata": {},
   "source": [
    "**3. Briefly discuss how Ultimate might leverage the insights gained from the model to improve its long term rider retention (again, a few sentences will suffice).** "
   ]
  },
  {
   "cell_type": "markdown",
   "id": "efef1ef8",
   "metadata": {},
   "source": [
    "Ultimate could improve rider retention by target marketing to ultimate black users as nearly half of them were not retained. Not many riders in Astapor or Winterfell were retained from these cities. I would implement a campaign to retain these riders. When more data becomes available we could test our RF model again to ensure its accuracy. This would also help Ultimate to predict future sales earnings and customer volume in future quarters for long term rider retention."
   ]
  }
 ],
 "metadata": {
  "kernelspec": {
   "display_name": "Python 3 (ipykernel)",
   "language": "python",
   "name": "python3"
  },
  "language_info": {
   "codemirror_mode": {
    "name": "ipython",
    "version": 3
   },
   "file_extension": ".py",
   "mimetype": "text/x-python",
   "name": "python",
   "nbconvert_exporter": "python",
   "pygments_lexer": "ipython3",
   "version": "3.9.7"
  }
 },
 "nbformat": 4,
 "nbformat_minor": 5
}
